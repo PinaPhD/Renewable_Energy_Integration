{
 "cells": [
  {
   "cell_type": "markdown",
   "metadata": {},
   "source": [
    "### Python for everybody (By Dr. Charles R. Severance)"
   ]
  },
  {
   "cell_type": "markdown",
   "metadata": {},
   "source": [
    "- Exploring Data Using Python 3"
   ]
  },
  {
   "cell_type": "code",
   "execution_count": 1,
   "metadata": {},
   "outputs": [
    {
     "name": "stdout",
     "output_type": "stream",
     "text": [
      "pina\n"
     ]
    }
   ],
   "source": [
    "# Asking user for input\n",
    "inp = input()\n"
   ]
  },
  {
   "cell_type": "code",
   "execution_count": 2,
   "metadata": {},
   "outputs": [
    {
     "name": "stdout",
     "output_type": "stream",
     "text": [
      "pina\n"
     ]
    }
   ],
   "source": [
    "print(inp)"
   ]
  },
  {
   "cell_type": "code",
   "execution_count": 3,
   "metadata": {},
   "outputs": [
    {
     "name": "stdout",
     "output_type": "stream",
     "text": [
      "What is your name\n",
      "pina\n"
     ]
    }
   ],
   "source": [
    "name = input(\"What is your name\\n\")"
   ]
  },
  {
   "cell_type": "code",
   "execution_count": 4,
   "metadata": {},
   "outputs": [
    {
     "name": "stdout",
     "output_type": "stream",
     "text": [
      "pina\n"
     ]
    }
   ],
   "source": [
    "print(name)"
   ]
  },
  {
   "cell_type": "code",
   "execution_count": 5,
   "metadata": {},
   "outputs": [
    {
     "name": "stdout",
     "output_type": "stream",
     "text": [
      "What is the airspeed velocity of an unladen swallow?\n",
      "34\n"
     ]
    }
   ],
   "source": [
    "prompt= 'What is the airspeed velocity of an unladen swallow?\\n'\n",
    "speed = input(prompt)"
   ]
  },
  {
   "cell_type": "code",
   "execution_count": 6,
   "metadata": {},
   "outputs": [
    {
     "name": "stdout",
     "output_type": "stream",
     "text": [
      "34\n"
     ]
    }
   ],
   "source": [
    "print(speed)"
   ]
  },
  {
   "cell_type": "code",
   "execution_count": 7,
   "metadata": {},
   "outputs": [],
   "source": [
    "#Good variable names can reduce the need for comments. \n",
    "#But long names can make complex expressions hard to read, so there is a trade-off.\n",
    "#Wisely chosen variable names are called - mnemonic variable names"
   ]
  },
  {
   "cell_type": "markdown",
   "metadata": {},
   "source": [
    "## Exercise A"
   ]
  },
  {
   "cell_type": "code",
   "execution_count": 8,
   "metadata": {},
   "outputs": [
    {
     "name": "stdout",
     "output_type": "stream",
     "text": [
      "Enter your name: \n",
      "pina\n",
      "Hello pina\n"
     ]
    }
   ],
   "source": [
    "nm = input('Enter your name: \\n')\n",
    "print('Hello', nm)"
   ]
  },
  {
   "cell_type": "code",
   "execution_count": 9,
   "metadata": {},
   "outputs": [
    {
     "name": "stdout",
     "output_type": "stream",
     "text": [
      "Enter hours: \n",
      "34\n",
      "Enter Rate: \n",
      "12\n",
      "Gross Pay: 408\n"
     ]
    }
   ],
   "source": [
    "hours = input(\"Enter hours: \\n\")\n",
    "rate = input(\"Enter Rate: \\n\")\n",
    "Pay  = float(hours) * float(rate)   #Typecast from string to float/double\n",
    "print(\"Gross Pay:\", round(Pay))"
   ]
  },
  {
   "cell_type": "code",
   "execution_count": 10,
   "metadata": {},
   "outputs": [
    {
     "data": {
      "text/plain": [
       "11"
      ]
     },
     "execution_count": 10,
     "metadata": {},
     "output_type": "execute_result"
    }
   ],
   "source": [
    "1+2*5"
   ]
  },
  {
   "cell_type": "code",
   "execution_count": 11,
   "metadata": {},
   "outputs": [
    {
     "name": "stdout",
     "output_type": "stream",
     "text": [
      "Enter temperature(deg.celsius):45\n",
      "Temp(F): 113.0\n"
     ]
    }
   ],
   "source": [
    "#Temperature conversion system\n",
    "Deg_Celsius = input(\"Enter temperature(deg.celsius):\")\n",
    "Deg_Fahrenheit = (9/5)*(float(Deg_Celsius))+32\n",
    "print(\"Temp(F):\", Deg_Fahrenheit)"
   ]
  },
  {
   "cell_type": "markdown",
   "metadata": {},
   "source": [
    "### Conditional Execution"
   ]
  },
  {
   "cell_type": "code",
   "execution_count": 12,
   "metadata": {},
   "outputs": [
    {
     "name": "stdout",
     "output_type": "stream",
     "text": [
      "Enter x:\n",
      "3\n",
      "Enter y:\n",
      "4\n",
      "Proceed...\n"
     ]
    }
   ],
   "source": [
    "x = input(\"Enter x:\\n\")\n",
    "y = input(\"Enter y:\\n\")\n",
    "\n",
    "if x is y:   #The alternate option: \"IS NOT\" in lowercase does the opposite\n",
    "    print(\"You entered similar values for x and y\")\n",
    "else:\n",
    "    print(\"Proceed...\")\n",
    "        "
   ]
  },
  {
   "cell_type": "code",
   "execution_count": 13,
   "metadata": {},
   "outputs": [],
   "source": [
    "# Note the difference between an assignment operator and a comparison operator"
   ]
  },
  {
   "cell_type": "code",
   "execution_count": 14,
   "metadata": {},
   "outputs": [
    {
     "name": "stdout",
     "output_type": "stream",
     "text": [
      "Small\n",
      "Done\n"
     ]
    }
   ],
   "source": [
    "x = 3\n",
    "if x < 10:\n",
    "    print(\"Small\")\n",
    "print(\"Done\")"
   ]
  },
  {
   "cell_type": "code",
   "execution_count": 15,
   "metadata": {},
   "outputs": [
    {
     "name": "stdout",
     "output_type": "stream",
     "text": [
      "X is greater than y\n"
     ]
    }
   ],
   "source": [
    "x = 9\n",
    "y = 8\n",
    "\n",
    "if x < y:\n",
    "    print(\"X is less than y\")\n",
    "elif x > y:\n",
    "    print(\"X is greater than y\")\n",
    "else:\n",
    "    print(\"x and y are equal\")\n",
    "    \n",
    "    "
   ]
  },
  {
   "cell_type": "code",
   "execution_count": 16,
   "metadata": {},
   "outputs": [
    {
     "name": "stdout",
     "output_type": "stream",
     "text": [
      "x is a positive single-digit number.\n"
     ]
    }
   ],
   "source": [
    "if 0 < x and x < 10:\n",
    "    print(\"x is a positive single-digit number.\")"
   ]
  },
  {
   "cell_type": "code",
   "execution_count": 17,
   "metadata": {},
   "outputs": [
    {
     "name": "stdout",
     "output_type": "stream",
     "text": [
      "What is the air velocity of an unladen swallow?\n",
      "56\n",
      "Air velocity(unladen swallow): 56\n"
     ]
    }
   ],
   "source": [
    "#Catching exceptions using try and except\n",
    "try:\n",
    "    prompt = \"What is the air velocity of an unladen swallow?\\n\"\n",
    "    speed = int(input(prompt))\n",
    "    print(\"Air velocity(unladen swallow):\", speed)\n",
    "except:\n",
    "    print(\"\\nInvalid entry.\\nKindly enter a number!\\n\")"
   ]
  },
  {
   "cell_type": "markdown",
   "metadata": {},
   "source": [
    "##### The guardian pattern or the short-circuit behaviour of logical expressions"
   ]
  },
  {
   "cell_type": "markdown",
   "metadata": {},
   "source": [
    "### Exercise B"
   ]
  },
  {
   "cell_type": "code",
   "execution_count": 18,
   "metadata": {},
   "outputs": [
    {
     "name": "stdout",
     "output_type": "stream",
     "text": [
      "Enter hours: \n",
      "45\n",
      "Enter rate: \n",
      "36\n",
      "\n",
      "\n",
      "Overtime hours accounted!\n",
      "\n",
      "Gross Pay: 1710.0\n"
     ]
    }
   ],
   "source": [
    "# Rewrite your pay computation to give the employee 1.5 times the hourly rate for hours worked above 40 hrs\n",
    "Hrs = float(input('Enter hours: \\n'))\n",
    "Rte = float(input('Enter rate: \\n'))\n",
    "overtime = 0    #Hours worked above the normal 40 hours rate\n",
    "\n",
    "if Hrs > 40:\n",
    "    print(\"\\n\\nOvertime hours accounted!\\n\")\n",
    "    overtime = Hrs - 40\n",
    "    Pay = (40*Rte)+(overtime*(Rte*1.5))\n",
    "    print(\"Gross Pay:\",Pay)\n",
    "else:\n",
    "    Pay = Hrs*Rte\n",
    "    print(\"Gross Pay:\",Pay)\n",
    "    \n",
    "    "
   ]
  },
  {
   "cell_type": "code",
   "execution_count": 19,
   "metadata": {},
   "outputs": [
    {
     "name": "stdout",
     "output_type": "stream",
     "text": [
      "Enter hours: \n",
      "45\n",
      "Enter rate: \n",
      "10\n",
      "\n",
      "\n",
      "Overtime hours accounted!\n",
      "\n",
      "Gross Pay: 475.0\n"
     ]
    }
   ],
   "source": [
    "try:\n",
    "    Hrs = float(input('Enter hours: \\n'))\n",
    "    Rte = float(input('Enter rate: \\n'))\n",
    "    overtime = 0    #Hours worked above the normal 40 hours rate\n",
    "\n",
    "    if Hrs > 40:\n",
    "        print(\"\\n\\nOvertime hours accounted!\\n\")\n",
    "        overtime = Hrs - 40\n",
    "        Pay = (40*Rte)+(overtime*(Rte*1.5))\n",
    "        print(\"Gross Pay:\",Pay)\n",
    "    else:\n",
    "        Pay = Hrs*Rte\n",
    "        print(\"Gross Pay:\",Pay)\n",
    "except:\n",
    "    print(\"Error,please enter numeric input\")\n",
    "    "
   ]
  },
  {
   "cell_type": "raw",
   "metadata": {},
   "source": [
    "Write a program to prompt for a score between 0.0 and\n",
    "1.0. If the score is out of range, print an error message. If the score is\n",
    "between 0.0 and 1.0, print a grade using the following table:"
   ]
  },
  {
   "cell_type": "code",
   "execution_count": 20,
   "metadata": {},
   "outputs": [
    {
     "name": "stdout",
     "output_type": "stream",
     "text": [
      "Enter a score (0.0 - 1.0):\n",
      "0.95\n",
      "A\n"
     ]
    }
   ],
   "source": [
    "try:\n",
    "    score = float(input(\"Enter a score (0.0 - 1.0):\\n\"))\n",
    "    if score <=1.0 and score >= 0.9:\n",
    "        print(\"A\")\n",
    "    elif score <0.9 and score >= 0.8:\n",
    "        print(\"B\")\n",
    "    elif score <0.8 and score >= 0.7:\n",
    "        print(\"C\")\n",
    "    elif score < 0.7 and score >= 0.6:\n",
    "        print(\"D\")\n",
    "    elif score >=0.0 and score < 0.6:\n",
    "        print(\"F\")\n",
    "    else:\n",
    "        print(\"Bad score\")\n",
    "                  \n",
    "except:\n",
    "    print('Bad score')\n",
    "        "
   ]
  },
  {
   "cell_type": "markdown",
   "metadata": {},
   "source": [
    "### Functions"
   ]
  },
  {
   "cell_type": "code",
   "execution_count": 21,
   "metadata": {},
   "outputs": [
    {
     "data": {
      "text/plain": [
       "'w'"
      ]
     },
     "execution_count": 21,
     "metadata": {},
     "output_type": "execute_result"
    }
   ],
   "source": [
    "max('Hello world')"
   ]
  },
  {
   "cell_type": "code",
   "execution_count": 22,
   "metadata": {},
   "outputs": [
    {
     "data": {
      "text/plain": [
       "' '"
      ]
     },
     "execution_count": 22,
     "metadata": {},
     "output_type": "execute_result"
    }
   ],
   "source": [
    "min('Goede Morgen')"
   ]
  },
  {
   "cell_type": "code",
   "execution_count": 23,
   "metadata": {},
   "outputs": [
    {
     "data": {
      "text/plain": [
       "11"
      ]
     },
     "execution_count": 23,
     "metadata": {},
     "output_type": "execute_result"
    }
   ],
   "source": [
    "len('Hello world')"
   ]
  },
  {
   "cell_type": "code",
   "execution_count": 24,
   "metadata": {},
   "outputs": [
    {
     "data": {
      "text/plain": [
       "32"
      ]
     },
     "execution_count": 24,
     "metadata": {},
     "output_type": "execute_result"
    }
   ],
   "source": [
    "int('32')"
   ]
  },
  {
   "cell_type": "code",
   "execution_count": 25,
   "metadata": {},
   "outputs": [
    {
     "data": {
      "text/plain": [
       "3"
      ]
     },
     "execution_count": 25,
     "metadata": {},
     "output_type": "execute_result"
    }
   ],
   "source": [
    "int(3.9999)   #It truncates the float value to get an integer value"
   ]
  },
  {
   "cell_type": "code",
   "execution_count": 26,
   "metadata": {},
   "outputs": [],
   "source": [
    "import math\n",
    "import random"
   ]
  },
  {
   "cell_type": "code",
   "execution_count": 27,
   "metadata": {},
   "outputs": [
    {
     "name": "stdout",
     "output_type": "stream",
     "text": [
      "<module 'math' (built-in)>\n"
     ]
    }
   ],
   "source": [
    "print(math)"
   ]
  },
  {
   "cell_type": "code",
   "execution_count": 28,
   "metadata": {},
   "outputs": [
    {
     "name": "stdout",
     "output_type": "stream",
     "text": [
      "Enter signal power(dB):3\n",
      "Enter noise power(dB):4\n",
      "-1.2493873660829995\n"
     ]
    }
   ],
   "source": [
    "signal_power = input(\"Enter signal power(dB):\")\n",
    "noise_power = input(\"Enter noise power(dB):\")\n",
    "ratio = float(signal_power)/float(noise_power)\n",
    "decibels = 10*math.log10(ratio)\n",
    "print(decibels)"
   ]
  },
  {
   "cell_type": "code",
   "execution_count": 29,
   "metadata": {},
   "outputs": [],
   "source": [
    "radians = 0.7\n",
    "height = math.sin(radians)"
   ]
  },
  {
   "cell_type": "code",
   "execution_count": 30,
   "metadata": {},
   "outputs": [
    {
     "data": {
      "text/plain": [
       "0.7071067811865476"
      ]
     },
     "execution_count": 30,
     "metadata": {},
     "output_type": "execute_result"
    }
   ],
   "source": [
    "degrees = 45\n",
    "radians = (degrees/ 360)*2*math.pi\n",
    "math.sin(radians)"
   ]
  },
  {
   "cell_type": "code",
   "execution_count": 31,
   "metadata": {},
   "outputs": [
    {
     "name": "stdout",
     "output_type": "stream",
     "text": [
      "0.11651793751349937\n",
      "0.4104997139033585\n",
      "0.2669644155038313\n",
      "0.6816710858967682\n",
      "0.7840014458514051\n",
      "0.5738019453448779\n",
      "0.2040531762978488\n",
      "0.23347148563573894\n",
      "0.5762896695455201\n",
      "0.3612237704750365\n"
     ]
    }
   ],
   "source": [
    "for i in range(10):\n",
    "    x = random.random()\n",
    "    print(x)"
   ]
  },
  {
   "cell_type": "code",
   "execution_count": 32,
   "metadata": {},
   "outputs": [
    {
     "data": {
      "text/plain": [
       "10"
      ]
     },
     "execution_count": 32,
     "metadata": {},
     "output_type": "execute_result"
    }
   ],
   "source": [
    "random.randint(2,10)   #argument [min,max] values to randomize"
   ]
  },
  {
   "cell_type": "code",
   "execution_count": 33,
   "metadata": {},
   "outputs": [
    {
     "data": {
      "text/plain": [
       "8"
      ]
     },
     "execution_count": 33,
     "metadata": {},
     "output_type": "execute_result"
    }
   ],
   "source": [
    "t = [1,2,3,3,4,5,6,7,8,12]\n",
    "random.choice(t)   #use the choice function to randomize a pick from an array"
   ]
  },
  {
   "cell_type": "code",
   "execution_count": 34,
   "metadata": {},
   "outputs": [
    {
     "name": "stdout",
     "output_type": "stream",
     "text": [
      "Easy on Me\n",
      "By Adele\n",
      "\n",
      "Go easy on me baby,I was still a child\n",
      "Didn't get the chance, to feel the world around me\n",
      "\n"
     ]
    }
   ],
   "source": [
    "def print_lyrics():\n",
    "    print(\"Easy on Me\")\n",
    "    print(\"By Adele\\n\")\n",
    "    print(\"Go easy on me baby,I was still a child\")\n",
    "    print(\"Didn't get the chance, to feel the world around me\\n\")\n",
    "    \n",
    "print_lyrics()"
   ]
  },
  {
   "cell_type": "code",
   "execution_count": 35,
   "metadata": {},
   "outputs": [
    {
     "name": "stdout",
     "output_type": "stream",
     "text": [
      "Easy on Me\n",
      "By Adele\n",
      "\n",
      "Go easy on me baby,I was still a child\n",
      "Didn't get the chance, to feel the world around me\n",
      "\n",
      "Easy on Me\n",
      "By Adele\n",
      "\n",
      "Go easy on me baby,I was still a child\n",
      "Didn't get the chance, to feel the world around me\n",
      "\n"
     ]
    }
   ],
   "source": [
    "def repeat_lyrics():\n",
    "    print_lyrics()     #Instance of a function\n",
    "    print_lyrics()\n",
    "\n",
    "repeat_lyrics()"
   ]
  },
  {
   "cell_type": "code",
   "execution_count": 36,
   "metadata": {},
   "outputs": [],
   "source": [
    "def print_twice(bruce):\n",
    "    print(bruce)\n",
    "    print(bruce)"
   ]
  },
  {
   "cell_type": "code",
   "execution_count": 37,
   "metadata": {},
   "outputs": [
    {
     "name": "stdout",
     "output_type": "stream",
     "text": [
      "Spam\n",
      "Spam\n"
     ]
    }
   ],
   "source": [
    "print_twice('Spam')"
   ]
  },
  {
   "cell_type": "code",
   "execution_count": 38,
   "metadata": {},
   "outputs": [
    {
     "name": "stdout",
     "output_type": "stream",
     "text": [
      "17\n",
      "17\n"
     ]
    }
   ],
   "source": [
    "print_twice(17)"
   ]
  },
  {
   "cell_type": "code",
   "execution_count": 39,
   "metadata": {},
   "outputs": [
    {
     "name": "stdout",
     "output_type": "stream",
     "text": [
      "3.141592653589793\n",
      "3.141592653589793\n"
     ]
    }
   ],
   "source": [
    "import math\n",
    "print_twice(math.pi)"
   ]
  },
  {
   "cell_type": "code",
   "execution_count": 40,
   "metadata": {},
   "outputs": [
    {
     "name": "stdout",
     "output_type": "stream",
     "text": [
      "SpamSpamSpamSpam\n",
      "SpamSpamSpamSpam\n"
     ]
    }
   ],
   "source": [
    "print_twice('Spam'*4)"
   ]
  },
  {
   "cell_type": "code",
   "execution_count": 41,
   "metadata": {},
   "outputs": [
    {
     "name": "stdout",
     "output_type": "stream",
     "text": [
      "-1.0\n",
      "-1.0\n"
     ]
    }
   ],
   "source": [
    "print_twice(math.cos(math.pi))"
   ]
  },
  {
   "cell_type": "code",
   "execution_count": 42,
   "metadata": {},
   "outputs": [
    {
     "name": "stdout",
     "output_type": "stream",
     "text": [
      "Eric, the half a bee.\n",
      "Eric, the half a bee.\n"
     ]
    }
   ],
   "source": [
    "Michael = 'Eric, the half a bee.'\n",
    "print_twice(Michael)"
   ]
  },
  {
   "cell_type": "code",
   "execution_count": 43,
   "metadata": {},
   "outputs": [
    {
     "data": {
      "text/plain": [
       "2.23606797749979"
      ]
     },
     "execution_count": 43,
     "metadata": {},
     "output_type": "execute_result"
    }
   ],
   "source": [
    "x = math.cos(radians)\n",
    "golden = (math.sqrt(5)+1)/2\n",
    "math.sqrt(5)"
   ]
  },
  {
   "cell_type": "code",
   "execution_count": 44,
   "metadata": {},
   "outputs": [
    {
     "data": {
      "text/plain": [
       "1.618033988749895"
      ]
     },
     "execution_count": 44,
     "metadata": {},
     "output_type": "execute_result"
    }
   ],
   "source": [
    "golden"
   ]
  },
  {
   "cell_type": "code",
   "execution_count": 45,
   "metadata": {},
   "outputs": [
    {
     "name": "stdout",
     "output_type": "stream",
     "text": [
      "Bing\n",
      "Bing\n",
      "None\n"
     ]
    }
   ],
   "source": [
    "result = print_twice('Bing')\n",
    "print(result)"
   ]
  },
  {
   "cell_type": "code",
   "execution_count": 46,
   "metadata": {},
   "outputs": [],
   "source": [
    "def addtwo(a,b):\n",
    "    added = a+b\n",
    "    return added"
   ]
  },
  {
   "cell_type": "code",
   "execution_count": 47,
   "metadata": {},
   "outputs": [
    {
     "name": "stdout",
     "output_type": "stream",
     "text": [
      "8\n"
     ]
    }
   ],
   "source": [
    "x= addtwo(3,5)\n",
    "print(x)"
   ]
  },
  {
   "cell_type": "code",
   "execution_count": 48,
   "metadata": {},
   "outputs": [],
   "source": [
    "def fred():\n",
    "    print(\"Zap\")\n",
    "    \n",
    "def jane():\n",
    "    print(\"ABC\")"
   ]
  },
  {
   "cell_type": "code",
   "execution_count": 49,
   "metadata": {},
   "outputs": [
    {
     "name": "stdout",
     "output_type": "stream",
     "text": [
      "ABC\n",
      "Zap\n",
      "ABC\n"
     ]
    }
   ],
   "source": [
    "jane()\n",
    "fred()\n",
    "jane()"
   ]
  },
  {
   "cell_type": "code",
   "execution_count": 50,
   "metadata": {},
   "outputs": [],
   "source": [
    "def computepay(hours,rate):\n",
    "    if hours > 40:   #implies overtime\n",
    "        overtime = hours-40\n",
    "        pay = (overtime*(1.5*rate))+ (40*rate)\n",
    "        return pay\n",
    "    else:\n",
    "        pay = hours*rate\n",
    "        return pay\n",
    "    "
   ]
  },
  {
   "cell_type": "code",
   "execution_count": 51,
   "metadata": {},
   "outputs": [
    {
     "name": "stdout",
     "output_type": "stream",
     "text": [
      "Enter hours:45\n",
      "Enter rate:10\n",
      "Pay: 475.0\n"
     ]
    }
   ],
   "source": [
    "hours = float(input('Enter hours:'))\n",
    "rate = float(input('Enter rate:'))\n",
    "r = computepay(hours,rate)\n",
    "print('Pay:',r)"
   ]
  },
  {
   "cell_type": "code",
   "execution_count": 52,
   "metadata": {},
   "outputs": [],
   "source": [
    "def computegrade(score):\n",
    "    try:\n",
    "        score = float(score)    #typecasting from string to integer\n",
    "        if score<=1.0 and score>=0.9:\n",
    "            return 'A'\n",
    "        elif score<0.9 and score>=0.8:\n",
    "            return 'B'\n",
    "        elif score<0.8 and score>=0.7:\n",
    "            return 'C'\n",
    "        elif score<0.7 and score>=0.6:\n",
    "            return 'D'\n",
    "        elif score<0.6 and score>=0.0:\n",
    "            return 'F'\n",
    "        else:\n",
    "            return 'Bad score'\n",
    "    except:\n",
    "        return 'Bad score'"
   ]
  },
  {
   "cell_type": "code",
   "execution_count": 53,
   "metadata": {},
   "outputs": [
    {
     "name": "stdout",
     "output_type": "stream",
     "text": [
      "Enter score(0.0-1.0):\n",
      "0.75\n",
      "C\n"
     ]
    }
   ],
   "source": [
    "score = input('Enter score(0.0-1.0):\\n')\n",
    "print(computegrade(score))"
   ]
  },
  {
   "cell_type": "markdown",
   "metadata": {},
   "source": [
    "### Iteration"
   ]
  },
  {
   "cell_type": "code",
   "execution_count": 54,
   "metadata": {},
   "outputs": [],
   "source": [
    "x = 0\n",
    "x = x+1\n"
   ]
  },
  {
   "cell_type": "code",
   "execution_count": 55,
   "metadata": {},
   "outputs": [
    {
     "name": "stdout",
     "output_type": "stream",
     "text": [
      "5\n",
      "4\n",
      "3\n",
      "2\n",
      "1\n",
      "Blastoff!\n"
     ]
    }
   ],
   "source": [
    "n = 5\n",
    "while n>0:\n",
    "    print(n)\n",
    "    n=n-1\n",
    "print('Blastoff!')"
   ]
  },
  {
   "cell_type": "code",
   "execution_count": 56,
   "metadata": {},
   "outputs": [
    {
     "name": "stdout",
     "output_type": "stream",
     "text": [
      "> done\n",
      "Done\n"
     ]
    }
   ],
   "source": [
    "while True:\n",
    "    line = input('> ')\n",
    "    if line == 'done':\n",
    "        break\n",
    "    print(line)\n",
    "print('Done')"
   ]
  },
  {
   "cell_type": "code",
   "execution_count": 57,
   "metadata": {},
   "outputs": [
    {
     "name": "stdout",
     "output_type": "stream",
     "text": [
      "> done\n",
      "Done!\n"
     ]
    }
   ],
   "source": [
    "while True:\n",
    "    line = input('> ')\n",
    "    if line[0] == '#':\n",
    "        continue        #Does not allow display of the input line value.\n",
    "    if line == 'done':\n",
    "        break\n",
    "    print(line)\n",
    "print('Done!')\n"
   ]
  },
  {
   "cell_type": "code",
   "execution_count": 72,
   "metadata": {},
   "outputs": [
    {
     "name": "stdout",
     "output_type": "stream",
     "text": [
      "Happy new year:\n",
      "G\n",
      "l\n",
      "e\n",
      "n\n",
      "n\n",
      "Done!\n"
     ]
    }
   ],
   "source": [
    "friends =['Joseph','Glenn','Sally','Willem','Agrippina','Joerge']\n",
    "print('Happy new year:')\n",
    "for friend in random.choice(friends):\n",
    "    print(friend)\n",
    "print('Done!')"
   ]
  },
  {
   "cell_type": "code",
   "execution_count": 74,
   "metadata": {},
   "outputs": [
    {
     "name": "stdout",
     "output_type": "stream",
     "text": [
      "Count:  11\n"
     ]
    }
   ],
   "source": [
    "#Loop patterns\n",
    "count = 0\n",
    "for itervar in [3,41,12,9,74,15,23,45,16,18,20]:\n",
    "    count = count + 1\n",
    "print('Count: ',count)"
   ]
  },
  {
   "cell_type": "code",
   "execution_count": 77,
   "metadata": {},
   "outputs": [
    {
     "name": "stdout",
     "output_type": "stream",
     "text": [
      "Total: 154\n"
     ]
    }
   ],
   "source": [
    "#Summing up all the elements in the list\n",
    "total = 0\n",
    "for itervar in [3,41,12,9,74,15]:\n",
    "    total = total + itervar\n",
    "print('Total:',total)"
   ]
  },
  {
   "cell_type": "code",
   "execution_count": null,
   "metadata": {},
   "outputs": [],
   "source": []
  }
 ],
 "metadata": {
  "kernelspec": {
   "display_name": "Python 3",
   "language": "python",
   "name": "python3"
  },
  "language_info": {
   "codemirror_mode": {
    "name": "ipython",
    "version": 3
   },
   "file_extension": ".py",
   "mimetype": "text/x-python",
   "name": "python",
   "nbconvert_exporter": "python",
   "pygments_lexer": "ipython3",
   "version": "3.8.3"
  }
 },
 "nbformat": 4,
 "nbformat_minor": 4
}
