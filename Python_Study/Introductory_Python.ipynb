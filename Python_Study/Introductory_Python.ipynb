{
 "cells": [
  {
   "cell_type": "markdown",
   "metadata": {},
   "source": [
    "### Python for everybody (By Dr. Charles R. Severance)"
   ]
  },
  {
   "cell_type": "markdown",
   "metadata": {},
   "source": [
    "- Exploring Data Using Python 3"
   ]
  },
  {
   "cell_type": "code",
   "execution_count": 1,
   "metadata": {},
   "outputs": [
    {
     "name": "stdout",
     "output_type": "stream",
     "text": [
<<<<<<< Updated upstream
<<<<<<< Updated upstream
      "234\n"
=======
      "pina\n"
>>>>>>> Stashed changes
=======
      "pina\n"
>>>>>>> Stashed changes
     ]
    }
   ],
   "source": [
    "# Asking user for input\n",
    "inp = input()\n"
   ]
  },
  {
   "cell_type": "code",
   "execution_count": 2,
   "metadata": {},
   "outputs": [
    {
     "name": "stdout",
     "output_type": "stream",
     "text": [
<<<<<<< Updated upstream
<<<<<<< Updated upstream
      "234\n"
=======
      "pina\n"
>>>>>>> Stashed changes
=======
      "pina\n"
>>>>>>> Stashed changes
     ]
    }
   ],
   "source": [
    "print(inp)"
   ]
  },
  {
   "cell_type": "code",
   "execution_count": 3,
   "metadata": {},
   "outputs": [
    {
     "name": "stdout",
     "output_type": "stream",
     "text": [
      "What is your name\n",
      "pina\n"
     ]
    }
   ],
   "source": [
    "name = input(\"What is your name\\n\")"
   ]
  },
  {
   "cell_type": "code",
   "execution_count": 4,
   "metadata": {},
   "outputs": [
    {
     "name": "stdout",
     "output_type": "stream",
     "text": [
      "pina\n"
     ]
    }
   ],
   "source": [
    "print(name)"
   ]
  },
  {
   "cell_type": "code",
   "execution_count": 5,
   "metadata": {},
   "outputs": [
    {
     "name": "stdout",
     "output_type": "stream",
     "text": [
      "What is the airspeed velocity of an unladen swallow?\n",
      "34\n"
     ]
    }
   ],
   "source": [
    "prompt= 'What is the airspeed velocity of an unladen swallow?\\n'\n",
    "speed = input(prompt)"
   ]
  },
  {
   "cell_type": "code",
   "execution_count": 6,
   "metadata": {},
   "outputs": [
    {
     "name": "stdout",
     "output_type": "stream",
     "text": [
      "34\n"
     ]
    }
   ],
   "source": [
    "print(speed)"
   ]
  },
  {
   "cell_type": "code",
   "execution_count": 7,
   "metadata": {},
   "outputs": [],
   "source": [
    "#Good variable names can reduce the need for comments. \n",
    "#But long names can make complex expressions hard to read, so there is a trade-off.\n",
    "#Wisely chosen variable names are called - mnemonic variable names"
   ]
  },
  {
   "cell_type": "markdown",
   "metadata": {},
   "source": [
    "## Exercise A"
   ]
  },
  {
   "cell_type": "code",
   "execution_count": 8,
   "metadata": {},
   "outputs": [
    {
     "name": "stdout",
     "output_type": "stream",
     "text": [
      "Enter your name: \n",
      "pina\n",
      "Hello pina\n"
     ]
    }
   ],
   "source": [
    "nm = input('Enter your name: \\n')\n",
    "print('Hello', nm)"
   ]
  },
  {
   "cell_type": "code",
   "execution_count": 9,
   "metadata": {},
   "outputs": [
    {
     "name": "stdout",
     "output_type": "stream",
     "text": [
      "Enter hours: \n",
      "34\n",
      "Enter Rate: \n",
<<<<<<< Updated upstream
<<<<<<< Updated upstream
      "45\n",
      "Gross Pay: 1530\n"
=======
      "12\n",
      "Gross Pay: 408\n"
>>>>>>> Stashed changes
=======
      "12\n",
      "Gross Pay: 408\n"
>>>>>>> Stashed changes
     ]
    }
   ],
   "source": [
    "hours = input(\"Enter hours: \\n\")\n",
    "rate = input(\"Enter Rate: \\n\")\n",
    "Pay  = float(hours) * float(rate)   #Typecast from string to float/double\n",
    "print(\"Gross Pay:\", round(Pay))"
   ]
  },
  {
   "cell_type": "code",
   "execution_count": 10,
   "metadata": {},
   "outputs": [
    {
     "data": {
      "text/plain": [
       "11"
      ]
     },
     "execution_count": 10,
     "metadata": {},
     "output_type": "execute_result"
    }
   ],
   "source": [
    "1+2*5"
   ]
  },
  {
   "cell_type": "code",
   "execution_count": 11,
   "metadata": {},
   "outputs": [
    {
     "name": "stdout",
     "output_type": "stream",
     "text": [
<<<<<<< Updated upstream
<<<<<<< Updated upstream
      "Enter temperature(deg.celsius):34\n",
      "Temp(F): 93.2\n"
=======
      "Enter temperature(deg.celsius):45\n",
      "Temp(F): 113.0\n"
>>>>>>> Stashed changes
=======
      "Enter temperature(deg.celsius):45\n",
      "Temp(F): 113.0\n"
>>>>>>> Stashed changes
     ]
    }
   ],
   "source": [
    "#Temperature conversion system\n",
    "Deg_Celsius = input(\"Enter temperature(deg.celsius):\")\n",
    "Deg_Fahrenheit = (9/5)*(float(Deg_Celsius))+32\n",
    "print(\"Temp(F):\", Deg_Fahrenheit)"
   ]
  },
  {
   "cell_type": "markdown",
   "metadata": {},
   "source": [
    "### Conditional Execution"
   ]
  },
  {
   "cell_type": "code",
   "execution_count": 12,
   "metadata": {},
   "outputs": [
    {
     "name": "stdout",
     "output_type": "stream",
     "text": [
      "Enter x:\n",
<<<<<<< Updated upstream
<<<<<<< Updated upstream
      "12\n",
      "Enter y:\n",
      "56\n",
=======
      "3\n",
      "Enter y:\n",
      "4\n",
>>>>>>> Stashed changes
=======
      "3\n",
      "Enter y:\n",
      "4\n",
>>>>>>> Stashed changes
      "Proceed...\n"
     ]
    }
   ],
   "source": [
    "x = input(\"Enter x:\\n\")\n",
    "y = input(\"Enter y:\\n\")\n",
    "\n",
    "if x is y:   #The alternate option: \"IS NOT\" in lowercase does the opposite\n",
    "    print(\"You entered similar values for x and y\")\n",
    "else:\n",
    "    print(\"Proceed...\")\n",
    "        "
   ]
  },
  {
   "cell_type": "code",
   "execution_count": 13,
   "metadata": {},
   "outputs": [],
   "source": [
    "# Note the difference between an assignment operator and a comparison operator"
   ]
  },
  {
   "cell_type": "code",
   "execution_count": 14,
   "metadata": {},
   "outputs": [
    {
     "name": "stdout",
     "output_type": "stream",
     "text": [
      "Small\n",
      "Done\n"
     ]
    }
   ],
   "source": [
    "x = 3\n",
    "if x < 10:\n",
    "    print(\"Small\")\n",
    "print(\"Done\")"
   ]
  },
  {
   "cell_type": "code",
   "execution_count": 15,
   "metadata": {},
   "outputs": [
    {
     "name": "stdout",
     "output_type": "stream",
     "text": [
      "X is greater than y\n"
     ]
    }
   ],
   "source": [
    "x = 9\n",
    "y = 8\n",
    "\n",
    "if x < y:\n",
    "    print(\"X is less than y\")\n",
    "elif x > y:\n",
    "    print(\"X is greater than y\")\n",
    "else:\n",
    "    print(\"x and y are equal\")\n",
    "    \n",
    "    "
   ]
  },
  {
   "cell_type": "code",
   "execution_count": 16,
   "metadata": {},
   "outputs": [
    {
     "name": "stdout",
     "output_type": "stream",
     "text": [
      "x is a positive single-digit number.\n"
     ]
    }
   ],
   "source": [
    "if 0 < x and x < 10:\n",
    "    print(\"x is a positive single-digit number.\")"
   ]
  },
  {
   "cell_type": "code",
   "execution_count": 17,
   "metadata": {},
   "outputs": [
    {
     "name": "stdout",
     "output_type": "stream",
     "text": [
      "What is the air velocity of an unladen swallow?\n",
<<<<<<< Updated upstream
<<<<<<< Updated upstream
      "23.4\n",
      "\n",
      "Invalid entry.\n",
      "Kindly enter a number!\n",
      "\n"
=======
      "56\n",
      "Air velocity(unladen swallow): 56\n"
>>>>>>> Stashed changes
=======
      "56\n",
      "Air velocity(unladen swallow): 56\n"
>>>>>>> Stashed changes
     ]
    }
   ],
   "source": [
    "#Catching exceptions using try and except\n",
    "try:\n",
    "    prompt = \"What is the air velocity of an unladen swallow?\\n\"\n",
    "    speed = int(input(prompt))\n",
    "    print(\"Air velocity(unladen swallow):\", speed)\n",
    "except:\n",
    "    print(\"\\nInvalid entry.\\nKindly enter a number!\\n\")"
   ]
  },
  {
   "cell_type": "markdown",
   "metadata": {},
   "source": [
    "##### The guardian pattern or the short-circuit behaviour of logical expressions"
   ]
  },
  {
   "cell_type": "markdown",
   "metadata": {},
   "source": [
    "### Exercise B"
   ]
  },
  {
   "cell_type": "code",
   "execution_count": 18,
   "metadata": {},
   "outputs": [
    {
     "name": "stdout",
     "output_type": "stream",
     "text": [
      "Enter hours: \n",
<<<<<<< Updated upstream
<<<<<<< Updated upstream
      "12.35\n",
      "Enter rate: \n",
      "13\n",
      "Gross Pay: 160.54999999999998\n"
=======
=======
>>>>>>> Stashed changes
      "45\n",
      "Enter rate: \n",
      "36\n",
      "\n",
      "\n",
      "Overtime hours accounted!\n",
      "\n",
      "Gross Pay: 1710.0\n"
<<<<<<< Updated upstream
>>>>>>> Stashed changes
=======
>>>>>>> Stashed changes
     ]
    }
   ],
   "source": [
    "# Rewrite your pay computation to give the employee 1.5 times the hourly rate for hours worked above 40 hrs\n",
    "Hrs = float(input('Enter hours: \\n'))\n",
    "Rte = float(input('Enter rate: \\n'))\n",
    "overtime = 0    #Hours worked above the normal 40 hours rate\n",
    "\n",
    "if Hrs > 40:\n",
    "    print(\"\\n\\nOvertime hours accounted!\\n\")\n",
    "    overtime = Hrs - 40\n",
    "    Pay = (40*Rte)+(overtime*(Rte*1.5))\n",
    "    print(\"Gross Pay:\",Pay)\n",
    "else:\n",
    "    Pay = Hrs*Rte\n",
    "    print(\"Gross Pay:\",Pay)\n",
    "    \n",
    "    "
   ]
  },
  {
   "cell_type": "code",
   "execution_count": 19,
   "metadata": {},
   "outputs": [
    {
     "name": "stdout",
     "output_type": "stream",
     "text": [
      "Enter hours: \n",
      "45\n",
      "Enter rate: \n",
      "10\n",
      "\n",
      "\n",
      "Overtime hours accounted!\n",
      "\n",
      "Gross Pay: 475.0\n"
     ]
    }
   ],
   "source": [
    "try:\n",
    "    Hrs = float(input('Enter hours: \\n'))\n",
    "    Rte = float(input('Enter rate: \\n'))\n",
    "    overtime = 0    #Hours worked above the normal 40 hours rate\n",
    "\n",
    "    if Hrs > 40:\n",
    "        print(\"\\n\\nOvertime hours accounted!\\n\")\n",
    "        overtime = Hrs - 40\n",
    "        Pay = (40*Rte)+(overtime*(Rte*1.5))\n",
    "        print(\"Gross Pay:\",Pay)\n",
    "    else:\n",
    "        Pay = Hrs*Rte\n",
    "        print(\"Gross Pay:\",Pay)\n",
    "except:\n",
    "    print(\"Error,please enter numeric input\")\n",
    "    "
   ]
  },
  {
   "cell_type": "raw",
   "metadata": {},
   "source": [
    "Write a program to prompt for a score between 0.0 and\n",
    "1.0. If the score is out of range, print an error message. If the score is\n",
    "between 0.0 and 1.0, print a grade using the following table:"
   ]
  },
  {
   "cell_type": "code",
   "execution_count": 20,
   "metadata": {},
   "outputs": [
    {
     "name": "stdout",
     "output_type": "stream",
     "text": [
      "Enter a score (0.0 - 1.0):\n",
<<<<<<< Updated upstream
<<<<<<< Updated upstream
      "0.5\n",
      "F\n"
=======
      "0.95\n",
      "A\n"
>>>>>>> Stashed changes
=======
      "0.95\n",
      "A\n"
>>>>>>> Stashed changes
     ]
    }
   ],
   "source": [
    "try:\n",
    "    score = float(input(\"Enter a score (0.0 - 1.0):\\n\"))\n",
    "    if score <=1.0 and score >= 0.9:\n",
    "        print(\"A\")\n",
    "    elif score <0.9 and score >= 0.8:\n",
    "        print(\"B\")\n",
    "    elif score <0.8 and score >= 0.7:\n",
    "        print(\"C\")\n",
    "    elif score < 0.7 and score >= 0.6:\n",
    "        print(\"D\")\n",
    "    elif score >=0.0 and score < 0.6:\n",
    "        print(\"F\")\n",
    "    else:\n",
    "        print(\"Bad score\")\n",
    "                  \n",
    "except:\n",
    "    print('Bad score')\n",
    "        "
   ]
  },
  {
   "cell_type": "markdown",
   "metadata": {},
   "source": [
    "### Functions"
   ]
  },
  {
   "cell_type": "code",
   "execution_count": 21,
   "metadata": {},
   "outputs": [
    {
     "data": {
      "text/plain": [
       "'w'"
      ]
     },
     "execution_count": 21,
     "metadata": {},
     "output_type": "execute_result"
    }
   ],
   "source": [
    "max('Hello world')"
   ]
  },
  {
   "cell_type": "code",
   "execution_count": 22,
   "metadata": {},
   "outputs": [
    {
     "data": {
      "text/plain": [
       "' '"
      ]
     },
     "execution_count": 22,
     "metadata": {},
     "output_type": "execute_result"
    }
   ],
   "source": [
    "min('Goede Morgen')"
   ]
  },
  {
   "cell_type": "code",
   "execution_count": 23,
   "metadata": {},
   "outputs": [
    {
     "data": {
      "text/plain": [
       "11"
      ]
     },
     "execution_count": 23,
     "metadata": {},
     "output_type": "execute_result"
    }
   ],
   "source": [
    "len('Hello world')"
   ]
  },
  {
   "cell_type": "code",
   "execution_count": 24,
   "metadata": {},
   "outputs": [
    {
     "data": {
      "text/plain": [
       "32"
      ]
     },
     "execution_count": 24,
     "metadata": {},
     "output_type": "execute_result"
    }
   ],
   "source": [
    "int('32')"
   ]
  },
  {
   "cell_type": "code",
   "execution_count": 25,
   "metadata": {},
   "outputs": [
    {
     "data": {
      "text/plain": [
       "3"
      ]
     },
     "execution_count": 25,
     "metadata": {},
     "output_type": "execute_result"
    }
   ],
   "source": [
    "int(3.9999)   #It truncates the float value to get an integer value"
   ]
  },
  {
   "cell_type": "code",
   "execution_count": 26,
   "metadata": {},
   "outputs": [],
   "source": [
    "import math\n",
    "import random"
   ]
  },
  {
   "cell_type": "code",
   "execution_count": 27,
   "metadata": {},
   "outputs": [
    {
     "name": "stdout",
     "output_type": "stream",
     "text": [
      "<module 'math' (built-in)>\n"
     ]
    }
   ],
   "source": [
    "print(math)"
   ]
  },
  {
   "cell_type": "code",
   "execution_count": 28,
   "metadata": {},
   "outputs": [
    {
     "name": "stdout",
     "output_type": "stream",
     "text": [
<<<<<<< Updated upstream
<<<<<<< Updated upstream
      "Enter signal power(dB):23.67\n",
      "Enter noise power(dB):45.63\n",
      "-2.850522108435781\n"
=======
      "Enter signal power(dB):3\n",
      "Enter noise power(dB):4\n",
      "-1.2493873660829995\n"
>>>>>>> Stashed changes
=======
      "Enter signal power(dB):3\n",
      "Enter noise power(dB):4\n",
      "-1.2493873660829995\n"
>>>>>>> Stashed changes
     ]
    }
   ],
   "source": [
    "signal_power = input(\"Enter signal power(dB):\")\n",
    "noise_power = input(\"Enter noise power(dB):\")\n",
    "ratio = float(signal_power)/float(noise_power)\n",
    "decibels = 10*math.log10(ratio)\n",
    "print(decibels)"
   ]
  },
  {
   "cell_type": "code",
   "execution_count": 29,
   "metadata": {},
   "outputs": [],
   "source": [
    "radians = 0.7\n",
    "height = math.sin(radians)"
   ]
  },
  {
   "cell_type": "code",
   "execution_count": 30,
   "metadata": {},
   "outputs": [
    {
     "data": {
      "text/plain": [
       "0.7071067811865476"
      ]
     },
     "execution_count": 30,
     "metadata": {},
     "output_type": "execute_result"
    }
   ],
   "source": [
    "degrees = 45\n",
    "radians = (degrees/ 360)*2*math.pi\n",
    "math.sin(radians)"
   ]
  },
  {
   "cell_type": "code",
   "execution_count": 31,
   "metadata": {},
   "outputs": [
    {
     "name": "stdout",
     "output_type": "stream",
     "text": [
<<<<<<< Updated upstream
<<<<<<< Updated upstream
      "0.5842987216224832\n",
      "0.7369921379128656\n",
      "0.006770309450285672\n",
      "0.043279003995462806\n",
      "0.2857733377896149\n",
      "0.8225185501457435\n",
      "0.8021785849893845\n",
      "0.6674805952781205\n",
      "0.27879634949199883\n",
      "0.16008904638463894\n"
=======
=======
>>>>>>> Stashed changes
      "0.11651793751349937\n",
      "0.4104997139033585\n",
      "0.2669644155038313\n",
      "0.6816710858967682\n",
      "0.7840014458514051\n",
      "0.5738019453448779\n",
      "0.2040531762978488\n",
      "0.23347148563573894\n",
      "0.5762896695455201\n",
      "0.3612237704750365\n"
<<<<<<< Updated upstream
>>>>>>> Stashed changes
=======
>>>>>>> Stashed changes
     ]
    }
   ],
   "source": [
    "for i in range(10):\n",
    "    x = random.random()\n",
    "    print(x)"
   ]
  },
  {
   "cell_type": "code",
   "execution_count": 32,
   "metadata": {},
   "outputs": [
    {
     "data": {
      "text/plain": [
       "10"
      ]
     },
     "execution_count": 32,
     "metadata": {},
     "output_type": "execute_result"
    }
   ],
   "source": [
    "random.randint(2,10)   #argument [min,max] values to randomize"
   ]
  },
  {
   "cell_type": "code",
   "execution_count": 33,
   "metadata": {},
   "outputs": [
    {
     "data": {
      "text/plain": [
<<<<<<< Updated upstream
<<<<<<< Updated upstream
       "5"
=======
       "8"
>>>>>>> Stashed changes
=======
       "8"
>>>>>>> Stashed changes
      ]
     },
     "execution_count": 33,
     "metadata": {},
     "output_type": "execute_result"
    }
   ],
   "source": [
    "t = [1,2,3,3,4,5,6,7,8,12]\n",
    "random.choice(t)   #use the choice function to randomize a pick from an array"
   ]
  },
  {
   "cell_type": "code",
   "execution_count": 34,
   "metadata": {},
   "outputs": [
    {
     "name": "stdout",
     "output_type": "stream",
     "text": [
      "Easy on Me\n",
      "By Adele\n",
      "\n",
      "Go easy on me baby,I was still a child\n",
      "Didn't get the chance, to feel the world around me\n",
      "\n"
     ]
    }
   ],
   "source": [
    "def print_lyrics():\n",
    "    print(\"Easy on Me\")\n",
    "    print(\"By Adele\\n\")\n",
    "    print(\"Go easy on me baby,I was still a child\")\n",
    "    print(\"Didn't get the chance, to feel the world around me\\n\")\n",
    "    \n",
    "print_lyrics()"
   ]
  },
  {
   "cell_type": "code",
   "execution_count": 35,
   "metadata": {},
   "outputs": [
    {
     "name": "stdout",
     "output_type": "stream",
     "text": [
      "Easy on Me\n",
      "By Adele\n",
      "\n",
      "Go easy on me baby,I was still a child\n",
      "Didn't get the chance, to feel the world around me\n",
      "\n",
      "Easy on Me\n",
      "By Adele\n",
      "\n",
      "Go easy on me baby,I was still a child\n",
      "Didn't get the chance, to feel the world around me\n",
      "\n"
     ]
    }
   ],
   "source": [
    "def repeat_lyrics():\n",
    "    print_lyrics()     #Instance of a function\n",
    "    print_lyrics()\n",
    "\n",
    "repeat_lyrics()"
   ]
  },
  {
   "cell_type": "code",
   "execution_count": 36,
   "metadata": {},
   "outputs": [],
   "source": [
    "def print_twice(bruce):\n",
    "    print(bruce)\n",
    "    print(bruce)"
   ]
  },
  {
   "cell_type": "code",
   "execution_count": 37,
   "metadata": {},
   "outputs": [
    {
     "name": "stdout",
     "output_type": "stream",
     "text": [
      "Spam\n",
      "Spam\n"
     ]
    }
   ],
   "source": [
    "print_twice('Spam')"
   ]
  },
  {
   "cell_type": "code",
   "execution_count": 38,
   "metadata": {},
   "outputs": [
    {
     "name": "stdout",
     "output_type": "stream",
     "text": [
      "17\n",
      "17\n"
     ]
    }
   ],
   "source": [
    "print_twice(17)"
   ]
  },
  {
   "cell_type": "code",
   "execution_count": 39,
   "metadata": {},
   "outputs": [
    {
     "name": "stdout",
     "output_type": "stream",
     "text": [
      "3.141592653589793\n",
      "3.141592653589793\n"
     ]
    }
   ],
   "source": [
    "import math\n",
    "print_twice(math.pi)"
   ]
  },
  {
   "cell_type": "code",
   "execution_count": 40,
   "metadata": {},
   "outputs": [
    {
     "name": "stdout",
     "output_type": "stream",
     "text": [
      "SpamSpamSpamSpam\n",
      "SpamSpamSpamSpam\n"
     ]
    }
   ],
   "source": [
    "print_twice('Spam'*4)"
   ]
  },
  {
   "cell_type": "code",
   "execution_count": 41,
   "metadata": {},
   "outputs": [
    {
     "name": "stdout",
     "output_type": "stream",
     "text": [
      "-1.0\n",
      "-1.0\n"
     ]
    }
   ],
   "source": [
    "print_twice(math.cos(math.pi))"
   ]
  },
  {
   "cell_type": "code",
   "execution_count": 42,
   "metadata": {},
   "outputs": [
    {
     "name": "stdout",
     "output_type": "stream",
     "text": [
      "Eric, the half a bee.\n",
      "Eric, the half a bee.\n"
     ]
    }
   ],
   "source": [
    "Michael = 'Eric, the half a bee.'\n",
    "print_twice(Michael)"
   ]
  },
  {
   "cell_type": "code",
   "execution_count": 43,
   "metadata": {},
   "outputs": [
    {
     "data": {
      "text/plain": [
       "2.23606797749979"
      ]
     },
     "execution_count": 43,
     "metadata": {},
     "output_type": "execute_result"
    }
   ],
   "source": [
    "x = math.cos(radians)\n",
    "golden = (math.sqrt(5)+1)/2\n",
    "math.sqrt(5)"
   ]
  },
  {
   "cell_type": "code",
   "execution_count": 44,
   "metadata": {},
   "outputs": [
    {
     "data": {
      "text/plain": [
       "1.618033988749895"
      ]
     },
     "execution_count": 44,
     "metadata": {},
     "output_type": "execute_result"
    }
   ],
   "source": [
    "golden"
   ]
  },
  {
   "cell_type": "code",
   "execution_count": 45,
   "metadata": {},
   "outputs": [
    {
     "name": "stdout",
     "output_type": "stream",
     "text": [
      "Bing\n",
      "Bing\n",
      "None\n"
     ]
    }
   ],
   "source": [
    "result = print_twice('Bing')\n",
    "print(result)"
   ]
  },
  {
   "cell_type": "code",
   "execution_count": 46,
   "metadata": {},
   "outputs": [],
   "source": [
    "def addtwo(a,b):\n",
    "    added = a+b\n",
    "    return added"
   ]
  },
  {
   "cell_type": "code",
   "execution_count": 47,
   "metadata": {},
   "outputs": [
    {
     "name": "stdout",
     "output_type": "stream",
     "text": [
      "8\n"
     ]
    }
   ],
   "source": [
    "x= addtwo(3,5)\n",
    "print(x)"
   ]
  },
  {
   "cell_type": "code",
   "execution_count": 48,
   "metadata": {},
   "outputs": [],
   "source": [
    "def fred():\n",
    "    print(\"Zap\")\n",
    "    \n",
    "def jane():\n",
    "    print(\"ABC\")"
   ]
  },
  {
   "cell_type": "code",
   "execution_count": 49,
   "metadata": {},
   "outputs": [
    {
     "name": "stdout",
     "output_type": "stream",
     "text": [
      "ABC\n",
      "Zap\n",
      "ABC\n"
     ]
    }
   ],
   "source": [
    "jane()\n",
    "fred()\n",
    "jane()"
   ]
  },
  {
   "cell_type": "code",
   "execution_count": 50,
   "metadata": {},
   "outputs": [],
   "source": [
    "def computepay(hours,rate):\n",
    "    if hours > 40:   #implies overtime\n",
    "        overtime = hours-40\n",
    "        pay = (overtime*(1.5*rate))+ (40*rate)\n",
    "        return pay\n",
    "    else:\n",
    "        pay = hours*rate\n",
    "        return pay\n",
    "    "
   ]
  },
  {
   "cell_type": "code",
   "execution_count": 51,
   "metadata": {},
   "outputs": [
    {
     "name": "stdout",
     "output_type": "stream",
     "text": [
      "Enter hours:45\n",
      "Enter rate:10\n",
      "Pay: 475.0\n"
     ]
    }
   ],
   "source": [
    "hours = float(input('Enter hours:'))\n",
    "rate = float(input('Enter rate:'))\n",
    "r = computepay(hours,rate)\n",
    "print('Pay:',r)"
   ]
  },
  {
   "cell_type": "code",
   "execution_count": 52,
   "metadata": {},
   "outputs": [],
   "source": [
    "def computegrade(score):\n",
    "    try:\n",
    "        score = float(score)    #typecasting from string to integer\n",
    "        if score<=1.0 and score>=0.9:\n",
    "            return 'A'\n",
    "        elif score<0.9 and score>=0.8:\n",
    "            return 'B'\n",
    "        elif score<0.8 and score>=0.7:\n",
    "            return 'C'\n",
    "        elif score<0.7 and score>=0.6:\n",
    "            return 'D'\n",
    "        elif score<0.6 and score>=0.0:\n",
    "            return 'F'\n",
    "        else:\n",
    "            return 'Bad score'\n",
    "    except:\n",
    "        return 'Bad score'"
   ]
  },
  {
   "cell_type": "code",
   "execution_count": 53,
   "metadata": {},
   "outputs": [
    {
     "name": "stdout",
     "output_type": "stream",
     "text": [
      "Enter score(0.0-1.0):\n",
<<<<<<< Updated upstream
<<<<<<< Updated upstream
      "0.9\n",
      "A\n"
=======
      "0.75\n",
      "C\n"
>>>>>>> Stashed changes
=======
      "0.75\n",
      "C\n"
>>>>>>> Stashed changes
     ]
    }
   ],
   "source": [
    "score = input('Enter score(0.0-1.0):\\n')\n",
    "print(computegrade(score))"
   ]
  },
  {
   "cell_type": "markdown",
   "metadata": {},
   "source": [
    "### Iteration"
   ]
  },
  {
   "cell_type": "code",
   "execution_count": 54,
   "metadata": {},
   "outputs": [],
   "source": [
    "x = 0\n",
    "x = x+1\n"
   ]
  },
  {
   "cell_type": "code",
   "execution_count": 55,
   "metadata": {},
   "outputs": [
    {
     "name": "stdout",
     "output_type": "stream",
     "text": [
      "5\n",
      "4\n",
      "3\n",
      "2\n",
      "1\n",
      "Blastoff!\n"
     ]
    }
   ],
   "source": [
    "n = 5\n",
    "while n>0:\n",
    "    print(n)\n",
    "    n=n-1\n",
    "print('Blastoff!')"
   ]
  },
  {
   "cell_type": "code",
   "execution_count": 56,
   "metadata": {},
   "outputs": [
    {
     "name": "stdout",
     "output_type": "stream",
     "text": [
<<<<<<< Updated upstream
<<<<<<< Updated upstream
      "> 34\n",
      "34\n",
      "> 45\n",
      "45\n",
=======
>>>>>>> Stashed changes
=======
>>>>>>> Stashed changes
      "> done\n",
      "Done\n"
     ]
    }
   ],
   "source": [
    "while True:\n",
    "    line = input('> ')\n",
    "    if line == 'done':\n",
    "        break\n",
    "    print(line)\n",
    "print('Done')"
   ]
  },
  {
   "cell_type": "code",
   "execution_count": 57,
   "metadata": {},
   "outputs": [
    {
     "name": "stdout",
     "output_type": "stream",
     "text": [
<<<<<<< Updated upstream
<<<<<<< Updated upstream
      "> 34\n",
      "34\n",
      "> 23\n",
      "23\n",
=======
>>>>>>> Stashed changes
=======
>>>>>>> Stashed changes
      "> done\n",
      "Done!\n"
     ]
    }
   ],
   "source": [
    "while True:\n",
    "    line = input('> ')\n",
    "    if line[0] == '#':\n",
    "        continue        #Does not allow display of the input line value.\n",
    "    if line == 'done':\n",
    "        break\n",
    "    print(line)\n",
    "print('Done!')\n"
   ]
  },
  {
   "cell_type": "code",
<<<<<<< Updated upstream
<<<<<<< Updated upstream
   "execution_count": 58,
=======
   "execution_count": 72,
>>>>>>> Stashed changes
=======
   "execution_count": 72,
>>>>>>> Stashed changes
   "metadata": {},
   "outputs": [
    {
     "name": "stdout",
     "output_type": "stream",
     "text": [
      "Happy new year:\n",
<<<<<<< Updated upstream
<<<<<<< Updated upstream
      "J\n",
      "o\n",
      "e\n",
      "r\n",
      "g\n",
      "e\n",
=======
=======
>>>>>>> Stashed changes
      "G\n",
      "l\n",
      "e\n",
      "n\n",
      "n\n",
<<<<<<< Updated upstream
>>>>>>> Stashed changes
=======
>>>>>>> Stashed changes
      "Done!\n"
     ]
    }
   ],
   "source": [
    "friends =['Joseph','Glenn','Sally','Willem','Agrippina','Joerge']\n",
    "print('Happy new year:')\n",
    "for friend in random.choice(friends):\n",
    "    print(friend)\n",
    "print('Done!')"
   ]
  },
  {
   "cell_type": "code",
<<<<<<< Updated upstream
<<<<<<< Updated upstream
   "execution_count": 59,
=======
   "execution_count": 74,
>>>>>>> Stashed changes
=======
   "execution_count": 74,
>>>>>>> Stashed changes
   "metadata": {},
   "outputs": [
    {
     "name": "stdout",
     "output_type": "stream",
     "text": [
      "Count:  11\n"
     ]
    }
   ],
   "source": [
    "#Loop patterns\n",
    "count = 0\n",
    "for itervar in [3,41,12,9,74,15,23,45,16,18,20]:\n",
    "    count = count + 1\n",
    "print('Count: ',count)"
   ]
  },
  {
   "cell_type": "code",
<<<<<<< Updated upstream
<<<<<<< Updated upstream
   "execution_count": 60,
=======
   "execution_count": 77,
>>>>>>> Stashed changes
=======
   "execution_count": 77,
>>>>>>> Stashed changes
   "metadata": {},
   "outputs": [
    {
     "name": "stdout",
     "output_type": "stream",
     "text": [
      "Total: 154\n"
     ]
    }
   ],
   "source": [
    "#Summing up all the elements in the list\n",
    "total = 0\n",
    "for itervar in [3,41,12,9,74,15]:\n",
    "    total = total + itervar\n",
    "print('Total:',total)"
   ]
  },
  {
   "cell_type": "code",
<<<<<<< Updated upstream
<<<<<<< Updated upstream
   "execution_count": 61,
   "metadata": {},
   "outputs": [
    {
     "name": "stdout",
     "output_type": "stream",
     "text": [
      "Before: None\n",
      "Largest: 74\n"
     ]
    }
   ],
   "source": [
    "#Maximum loops\n",
    "largest = None\n",
    "print('Before:', largest)\n",
    "for itervar in [3,41,12,9,74,15]:\n",
    "    if largest is None or itervar > largest:\n",
    "        largest = itervar\n",
    "    #print('Loop:',itervar,largest)\n",
    "print('Largest:',largest)"
   ]
  },
  {
   "cell_type": "code",
   "execution_count": 62,
   "metadata": {},
   "outputs": [
    {
     "name": "stdout",
     "output_type": "stream",
     "text": [
      "Before:  None\n",
      "Least: 0.8\n"
     ]
    }
   ],
   "source": [
    "#Minimum loops\n",
    "least = None\n",
    "print('Before: ',least)\n",
    "for itervar in [3,41,12,9,0.8,74,15]:\n",
    "    if least is None or itervar < least:\n",
    "        least = itervar\n",
    "print('Least:',least)"
   ]
  },
  {
   "cell_type": "code",
   "execution_count": 63,
   "metadata": {},
   "outputs": [
    {
     "data": {
      "text/plain": [
       "0.8"
      ]
     },
     "execution_count": 63,
     "metadata": {},
     "output_type": "execute_result"
    }
   ],
   "source": [
    "def least_func(values):\n",
    "    smallest = None\n",
    "    for i in values:\n",
    "        if smallest is None or i < smallest:\n",
    "            smallest = i\n",
    "    return smallest\n",
    "\n",
    "#Testing the function\n",
    "least_func((3,41,12,9,0.8,74,15))\n"
   ]
  },
  {
   "cell_type": "markdown",
   "metadata": {},
   "source": [
    "##### Exercise 1: Write a program which repeatedly reads numbers until the user enters “done”. Once “done” is entered, print out the total, count,and average of the numbers. If the user enters anything other than a number, detect their mistake using try and except and print an error message and skip to the next number."
   ]
  },
  {
   "cell_type": "code",
   "execution_count": 97,
   "metadata": {},
   "outputs": [
    {
     "name": "stdout",
     "output_type": "stream",
     "text": [
      "Enter number: 4\n",
      "Enter number: 5\n",
      "Enter number: bad data\n",
      "Enter a valid number!\n",
      "Enter number: 7\n",
      "Enter number: done\n",
      "(16.0, 3, 5.333333333333333)\n"
     ]
    }
   ],
   "source": [
    "c = 0\n",
    "t = 0\n",
    "x_avg = 0\n",
    "\n",
    "while True:\n",
    "    try:\n",
    "        x_val = input(\"Enter number: \")\n",
    "        if x_val == 'done':\n",
    "            break\n",
    "        else:\n",
    "            #Perform summation\n",
    "            t = t+float(x_val)\n",
    "            #Perform count\n",
    "            c = c + 1\n",
    "            #computing average\n",
    "            x_avg = t/c\n",
    "            \n",
    "    \n",
    "    except:\n",
    "        print('Enter a valid number!')\n",
    " \n",
    "\n",
    "print((t,c,x_avg))"
   ]
  },
  {
   "cell_type": "code",
   "execution_count": 103,
   "metadata": {},
   "outputs": [
    {
     "name": "stdout",
     "output_type": "stream",
     "text": [
      "Enter numerical value: 3\n",
      "Enter numerical value: 4\n",
      "Enter numerical value: 5\n",
      "Enter numerical value: 6\n",
      "Enter numerical value: 7\n",
      "Enter numerical value: 8\n",
      "Enter numerical value: done\n"
     ]
    },
    {
     "data": {
      "text/plain": [
       "[3.0, 4.0, 5.0, 6.0, 7.0, 8.0]"
      ]
     },
     "execution_count": 103,
     "metadata": {},
     "output_type": "execute_result"
    }
   ],
   "source": [
    "val_store = []\n",
    "while True:\n",
    "    x_in = input(\"Enter numerical value: \")\n",
    "    if x_in == 'done':\n",
    "        break\n",
    "    else:\n",
    "        val_store.append(float(x_in))\n",
    "        \n",
    "val_store"
   ]
  },
  {
   "cell_type": "markdown",
   "metadata": {},
   "source": [
    "##### Exercise 2: Write another program that prompts for a list of numbers as above and at the end prints out both the maximum and minimum of the numbers instead of the average."
   ]
  },
  {
   "cell_type": "code",
   "execution_count": 116,
   "metadata": {},
   "outputs": [],
   "source": [
    "\n",
    "\n",
    "\n",
    "#Maximum values\n",
    "def max_val(entry1):\n",
    "    largest = None\n",
    "    for i in entry1:\n",
    "        if largest is None or i> largest:\n",
    "            largest = i\n",
    "    return largest\n",
    "\n",
    "\n",
    "#Minimum values\n",
    "def min_val(entry1):\n",
    "    lowest = None\n",
    "    for j in entry1:\n",
    "        if lowest is None or j< lowest:\n",
    "            lowest = j\n",
    "    return lowest"
   ]
  },
  {
   "cell_type": "code",
   "execution_count": 122,
   "metadata": {},
   "outputs": [
    {
     "name": "stdout",
     "output_type": "stream",
     "text": [
      "Enter a number: 3\n",
      "Enter a number: 4\n",
      "Enter a number: 5\n",
      "Enter a number: 12\n",
      "Enter a number: 78\n",
      "Enter a number: 34\n",
      "Enter a number: 56\n",
      "Enter a number: 12\n",
      "Enter a number: -9\n",
      "Enter a number: -55\n",
      "Enter a number: done\n",
      "\n",
      "\n",
      "The entered values:\n",
      "[3.0, 4.0, 5.0, 12.0, 78.0, 34.0, 56.0, 12.0, -9.0, -55.0]\n",
      "\n",
      "Min Max\n",
      "-55.0 78.0\n"
     ]
    }
   ],
   "source": [
    "values_ex2 = []\n",
    "\n",
    "while True:\n",
    "    try:\n",
    "        y_val = input('Enter a number: ')\n",
    "        if y_val == 'done':\n",
    "            break\n",
    "            \n",
    "        else:\n",
    "            values_ex2.append(float(y_val))\n",
    "    except:\n",
    "        print('Enter valid number')\n",
    "            \n",
    "rmin = min_val(values_ex2)\n",
    "rmax = max_val(values_ex2)\n",
    "\n",
    "print('\\n\\nThe entered values:')\n",
    "print(values_ex2)\n",
    "print('\\nMin Max')\n",
    "print(rmin,rmax)\n"
   ]
  },
  {
   "cell_type": "markdown",
   "metadata": {},
   "source": [
    "### Chapter 6: Strings"
   ]
  },
  {
   "cell_type": "markdown",
   "metadata": {},
   "source": [
    "* A string is a sequence of characters"
   ]
  },
  {
   "cell_type": "code",
   "execution_count": 123,
   "metadata": {},
   "outputs": [
    {
     "name": "stdout",
     "output_type": "stream",
     "text": [
      "a\n",
      "a\n",
      "r\n",
      "d\n",
      "b\n",
      "e\n",
      "i\n"
     ]
    }
   ],
   "source": [
    "fruit = 'aardbei'\n",
    "for i in fruit:\n",
    "    print(i)"
   ]
  },
  {
   "cell_type": "code",
   "execution_count": 125,
   "metadata": {},
   "outputs": [
    {
     "name": "stdout",
     "output_type": "stream",
     "text": [
      "e\n"
     ]
    }
   ],
   "source": [
    "#Accessing specific characters in a string\n",
    "letter = fruit[-2]\n",
    "print(letter)"
   ]
  },
  {
   "cell_type": "code",
   "execution_count": 126,
   "metadata": {},
   "outputs": [
    {
     "data": {
      "text/plain": [
       "6"
      ]
     },
     "execution_count": 126,
     "metadata": {},
     "output_type": "execute_result"
    }
   ],
   "source": [
    "#Getting the length of a string using len\n",
    "fruit = 'banana'\n",
    "len(fruit)"
   ]
  },
  {
   "cell_type": "code",
   "execution_count": 127,
   "metadata": {},
   "outputs": [
    {
     "name": "stdout",
     "output_type": "stream",
     "text": [
      "b\n",
      "a\n",
      "n\n",
      "a\n",
      "n\n",
      "a\n"
     ]
    }
   ],
   "source": [
    "#Traversal through a string with a loop\n",
    "index = 0\n",
    "while index < len(fruit):\n",
    "    letter = fruit[index]\n",
    "    print(letter)\n",
    "    index = index + 1"
   ]
  },
  {
   "cell_type": "code",
   "execution_count": 128,
   "metadata": {},
   "outputs": [
    {
     "name": "stdout",
     "output_type": "stream",
     "text": [
      "a\n",
      "n\n",
      "a\n",
      "n\n",
      "a\n",
      "b\n"
     ]
    }
   ],
   "source": [
    "# Write a while loop that starts at the last character in the string and works its way backward to the first character in the string, printing each letter on a separate line (except backwards)\n",
    "index = len(fruit)-1\n",
    "while index >= 0:\n",
    "    letter = fruit[index]\n",
    "    print(letter)\n",
    "    index = index - 1\n",
    "    "
   ]
  },
  {
   "cell_type": "code",
   "execution_count": 134,
   "metadata": {},
   "outputs": [
    {
     "name": "stdout",
     "output_type": "stream",
     "text": [
      "Monty \n"
     ]
    }
   ],
   "source": [
    "#String slices\n",
    "s = 'Monty Python'\n",
    "print(s[0:6])\n"
   ]
  },
  {
   "cell_type": "code",
   "execution_count": 133,
   "metadata": {},
   "outputs": [
    {
     "name": "stdout",
     "output_type": "stream",
     "text": [
      "Python\n"
     ]
    }
   ],
   "source": [
    "print(s[6:12])"
   ]
  },
  {
   "cell_type": "code",
   "execution_count": 135,
   "metadata": {},
   "outputs": [
    {
     "data": {
      "text/plain": [
       "'bana'"
      ]
     },
     "execution_count": 135,
     "metadata": {},
     "output_type": "execute_result"
    }
   ],
   "source": [
    "fruit[:4]  #from the beginning to value"
   ]
  },
  {
   "cell_type": "code",
   "execution_count": 136,
   "metadata": {},
   "outputs": [
    {
     "data": {
      "text/plain": [
       "'ana'"
      ]
     },
     "execution_count": 136,
     "metadata": {},
     "output_type": "execute_result"
    }
   ],
   "source": [
    "fruit[3:]  #from value to the end"
   ]
  },
  {
   "cell_type": "code",
   "execution_count": 137,
   "metadata": {},
   "outputs": [
    {
     "data": {
      "text/plain": [
       "''"
      ]
     },
     "execution_count": 137,
     "metadata": {},
     "output_type": "execute_result"
    }
   ],
   "source": [
    "fruit[3:3]   #empty string containing no character -- length 0 "
   ]
  },
  {
   "cell_type": "code",
   "execution_count": 138,
   "metadata": {},
   "outputs": [
    {
     "data": {
      "text/plain": [
       "'banana'"
      ]
     },
     "execution_count": 138,
     "metadata": {},
     "output_type": "execute_result"
    }
   ],
   "source": [
    "fruit[:]   #outputs all the characters in the string"
   ]
  },
  {
   "cell_type": "code",
   "execution_count": 141,
   "metadata": {},
   "outputs": [
    {
     "data": {
      "text/plain": [
       "'Hello World!'"
      ]
     },
     "execution_count": 141,
     "metadata": {},
     "output_type": "execute_result"
    }
   ],
   "source": [
    "#Strings are immutable\n",
    "greeting  = 'Hello World!'\n",
    "greeting"
   ]
  },
  {
   "cell_type": "code",
   "execution_count": 142,
   "metadata": {},
   "outputs": [
    {
     "name": "stdout",
     "output_type": "stream",
     "text": [
      "Jello World!\n"
     ]
    }
   ],
   "source": [
    "#Strings can be concatenated to form new strings\n",
    "new_greeting = 'J'+greeting[1:]\n",
    "print(new_greeting)"
   ]
  },
  {
   "cell_type": "code",
   "execution_count": 146,
   "metadata": {},
   "outputs": [
    {
     "data": {
      "text/plain": [
       "'Hello Pina'"
      ]
     },
     "execution_count": 146,
     "metadata": {},
     "output_type": "execute_result"
    }
   ],
   "source": [
    "new_salamz = greeting[0:6]+ 'Pina'\n",
    "new_salamz"
   ]
  },
  {
   "cell_type": "code",
   "execution_count": 147,
   "metadata": {},
   "outputs": [
    {
     "name": "stdout",
     "output_type": "stream",
     "text": [
      "3\n"
     ]
    }
   ],
   "source": [
    "#Looping and counting\n",
    "word = 'banana'\n",
    "count = 0\n",
    "for letter in word:\n",
    "    if letter == 'a':\n",
    "        count = count + 1\n",
    "print(count)"
   ]
  },
  {
   "cell_type": "code",
   "execution_count": 152,
   "metadata": {},
   "outputs": [],
   "source": [
    "def count_characters(word_find, char_find):\n",
    "    ct = 0\n",
    "    for i in word_find:\n",
    "        if i == char_find:\n",
    "            ct = ct + 1\n",
    "    return ct"
   ]
  },
  {
   "cell_type": "code",
   "execution_count": 157,
   "metadata": {},
   "outputs": [
    {
     "data": {
      "text/plain": [
       "4"
      ]
     },
     "execution_count": 157,
     "metadata": {},
     "output_type": "execute_result"
    }
   ],
   "source": [
    "t = 'Agrippina Wanjiru Mwangi'\n",
    "g = 'i'\n",
    "count_characters(t,g)"
   ]
  },
  {
   "cell_type": "code",
   "execution_count": 161,
   "metadata": {},
   "outputs": [
    {
     "data": {
      "text/plain": [
       "False"
      ]
     },
     "execution_count": 161,
     "metadata": {},
     "output_type": "execute_result"
    }
   ],
   "source": [
    "#In operator - A boolean operator that takes in two strings and returns True if the first appears as a substring in the second\n",
    "'z' in 'Agrippina'\n"
   ]
  },
  {
   "cell_type": "code",
   "execution_count": 163,
   "metadata": {},
   "outputs": [
    {
     "name": "stdout",
     "output_type": "stream",
     "text": [
      "All right, bananas.\n"
     ]
    }
   ],
   "source": [
    "#String comparison\n",
    "if word == 'banana':\n",
    "    print('All right, bananas.')"
   ]
  },
  {
   "cell_type": "code",
   "execution_count": 164,
   "metadata": {},
   "outputs": [],
   "source": [
    "# In python, all the uppercase letters come before all the lowercase letters "
   ]
  },
  {
   "cell_type": "code",
   "execution_count": 166,
   "metadata": {},
   "outputs": [
    {
     "name": "stdout",
     "output_type": "stream",
     "text": [
      "Your word, aardbei, comes before sinaasappel\n"
     ]
    }
   ],
   "source": [
    "word = 'aardbei'\n",
    "if word < 'sinaasappel':\n",
    "    print('Your word, '+ word+', comes before sinaasappel')\n",
    "elif word > 'sinaasappel':\n",
    "    print('Your word, '+word+', comes after sinaasappel')\n",
    "else:\n",
    "    print('All right, sinaasappel')"
   ]
  },
  {
   "cell_type": "code",
   "execution_count": 167,
   "metadata": {},
   "outputs": [
    {
     "data": {
      "text/plain": [
       "str"
      ]
     },
     "execution_count": 167,
     "metadata": {},
     "output_type": "execute_result"
    }
   ],
   "source": [
    "stuff = 'Hello World'\n",
    "type(stuff)"
   ]
  },
  {
   "cell_type": "code",
   "execution_count": 168,
   "metadata": {},
   "outputs": [
    {
     "data": {
      "text/plain": [
       "['__add__',\n",
       " '__class__',\n",
       " '__contains__',\n",
       " '__delattr__',\n",
       " '__dir__',\n",
       " '__doc__',\n",
       " '__eq__',\n",
       " '__format__',\n",
       " '__ge__',\n",
       " '__getattribute__',\n",
       " '__getitem__',\n",
       " '__getnewargs__',\n",
       " '__gt__',\n",
       " '__hash__',\n",
       " '__init__',\n",
       " '__init_subclass__',\n",
       " '__iter__',\n",
       " '__le__',\n",
       " '__len__',\n",
       " '__lt__',\n",
       " '__mod__',\n",
       " '__mul__',\n",
       " '__ne__',\n",
       " '__new__',\n",
       " '__reduce__',\n",
       " '__reduce_ex__',\n",
       " '__repr__',\n",
       " '__rmod__',\n",
       " '__rmul__',\n",
       " '__setattr__',\n",
       " '__sizeof__',\n",
       " '__str__',\n",
       " '__subclasshook__',\n",
       " 'capitalize',\n",
       " 'casefold',\n",
       " 'center',\n",
       " 'count',\n",
       " 'encode',\n",
       " 'endswith',\n",
       " 'expandtabs',\n",
       " 'find',\n",
       " 'format',\n",
       " 'format_map',\n",
       " 'index',\n",
       " 'isalnum',\n",
       " 'isalpha',\n",
       " 'isascii',\n",
       " 'isdecimal',\n",
       " 'isdigit',\n",
       " 'isidentifier',\n",
       " 'islower',\n",
       " 'isnumeric',\n",
       " 'isprintable',\n",
       " 'isspace',\n",
       " 'istitle',\n",
       " 'isupper',\n",
       " 'join',\n",
       " 'ljust',\n",
       " 'lower',\n",
       " 'lstrip',\n",
       " 'maketrans',\n",
       " 'partition',\n",
       " 'replace',\n",
       " 'rfind',\n",
       " 'rindex',\n",
       " 'rjust',\n",
       " 'rpartition',\n",
       " 'rsplit',\n",
       " 'rstrip',\n",
       " 'split',\n",
       " 'splitlines',\n",
       " 'startswith',\n",
       " 'strip',\n",
       " 'swapcase',\n",
       " 'title',\n",
       " 'translate',\n",
       " 'upper',\n",
       " 'zfill']"
      ]
     },
     "execution_count": 168,
     "metadata": {},
     "output_type": "execute_result"
    }
   ],
   "source": [
    "dir(stuff)"
   ]
  },
  {
   "cell_type": "code",
   "execution_count": 169,
   "metadata": {},
   "outputs": [
    {
     "name": "stdout",
     "output_type": "stream",
     "text": [
      "BANANA\n"
     ]
    }
   ],
   "source": [
    "word = 'banana'\n",
    "new_word = word.upper()    #invocation - method call\n",
    "print(new_word)"
   ]
  },
  {
   "cell_type": "code",
   "execution_count": 171,
   "metadata": {},
   "outputs": [
    {
     "name": "stdout",
     "output_type": "stream",
     "text": [
      "4\n"
     ]
    }
   ],
   "source": [
    "#Finding the index for a character in a string\n",
    "word = 'aardbei'\n",
    "index = word.find('b')\n",
    "print(index)"
   ]
  },
  {
   "cell_type": "code",
   "execution_count": 175,
   "metadata": {},
   "outputs": [
    {
     "data": {
      "text/plain": [
       "' Here we go '"
      ]
     },
     "execution_count": 175,
     "metadata": {},
     "output_type": "execute_result"
    }
   ],
   "source": [
    "#Removing white space (spaces, tabs or newlines) from the beginning and end of a string using the strip method\n",
    "line = ' Here we go '\n",
    "line\n"
   ]
  },
  {
   "cell_type": "code",
   "execution_count": 176,
   "metadata": {},
   "outputs": [
    {
     "data": {
      "text/plain": [
       "'Here we go'"
      ]
     },
     "execution_count": 176,
     "metadata": {},
     "output_type": "execute_result"
    }
   ],
   "source": [
    "line.strip()"
   ]
  },
  {
   "cell_type": "code",
   "execution_count": 177,
   "metadata": {},
   "outputs": [
    {
     "data": {
      "text/plain": [
       "3"
      ]
     },
     "execution_count": 177,
     "metadata": {},
     "output_type": "execute_result"
    }
   ],
   "source": [
    "#### Exercise 4: There is a string method called count that is similar to the function in the previous exercise. Write an invocation that counts the number of times the letter a occurs in \"banana\"\n",
    "frt = 'banana'\n",
    "frt.count('a')"
   ]
  },
  {
   "cell_type": "code",
   "execution_count": 188,
   "metadata": {},
   "outputs": [
    {
     "name": "stdout",
     "output_type": "stream",
     "text": [
      "uct.ac.za\n"
     ]
    }
   ],
   "source": [
    "#Parsing strings - Looks into a string and finds a substring\n",
    "\n",
    "data = 'From stephen.marquard@uct.ac.za Sat Jan 5 09:14:16 2008'\n",
    "atpos = data.find('@')\n",
    "sppos = data.find(' ',atpos)   #find the position of the first space after the @\n",
    "host = data[atpos+1:sppos]\n",
    "print(host)"
   ]
  },
  {
   "cell_type": "code",
   "execution_count": 186,
   "metadata": {},
   "outputs": [
    {
     "name": "stdout",
     "output_type": "stream",
     "text": [
      "31\n"
     ]
    }
   ],
   "source": [
    "print(sppos)"
   ]
  },
  {
   "cell_type": "code",
   "execution_count": 189,
   "metadata": {},
   "outputs": [
    {
     "data": {
      "text/plain": [
       "'42'"
      ]
     },
     "execution_count": 189,
     "metadata": {},
     "output_type": "execute_result"
    }
   ],
   "source": [
    "#Format operator\n",
    "camels = 42\n",
    "'%d' % camels"
   ]
  },
  {
   "cell_type": "code",
   "execution_count": 190,
   "metadata": {},
   "outputs": [
    {
     "data": {
      "text/plain": [
       "'I have spotted 42 camels'"
      ]
     },
     "execution_count": 190,
     "metadata": {},
     "output_type": "execute_result"
    }
   ],
   "source": [
    "'I have spotted %d camels' %camels   #Takes the integer version of the value"
   ]
  },
  {
   "cell_type": "code",
   "execution_count": 192,
   "metadata": {},
   "outputs": [
    {
     "data": {
      "text/plain": [
       "'In 3 years I have spotted 9 camels.'"
      ]
     },
     "execution_count": 192,
     "metadata": {},
     "output_type": "execute_result"
    }
   ],
   "source": [
    "'In %d years I have spotted %g %s.' %(3,9,'camels')"
   ]
  },
  {
   "cell_type": "code",
   "execution_count": 193,
   "metadata": {},
   "outputs": [
    {
     "name": "stdout",
     "output_type": "stream",
     "text": [
      "In 50 days, I will be 30 years old\n"
     ]
    }
   ],
   "source": [
    "print('In %d days, I will be %d years old' %(50,30))"
   ]
  },
  {
   "cell_type": "code",
   "execution_count": 202,
   "metadata": {},
   "outputs": [
    {
     "name": "stdout",
     "output_type": "stream",
     "text": [
      "> 5\n",
      "5\n",
      "> 6\n",
      "6\n",
      "> 7\n",
      "7\n",
      "> done\n",
      "Done!\n"
     ]
    }
   ],
   "source": [
    "while True:\n",
    "    line = input('> ')\n",
    "    if line.startswith('#'):   #Or use the guardian pattern and make sure the 2nd logical expression is evaluated only where there is at least one character in the string\n",
    "        continue\n",
    "    if line == 'done':\n",
    "        break\n",
    "    print(line)\n",
    "print('Done!')"
   ]
  },
  {
   "cell_type": "code",
   "execution_count": 211,
   "metadata": {},
   "outputs": [
    {
     "name": "stdout",
     "output_type": "stream",
     "text": [
      "0.8475\n"
     ]
    }
   ],
   "source": [
    "str_val = 'X-DSPAM-Confidence:0.8475'\n",
    "atpos1 = str_val.find(':')\n",
    "str_extract=float(str_val[19:])\n",
    "print(str_extract)"
   ]
  },
  {
   "cell_type": "code",
   "execution_count": 212,
   "metadata": {},
   "outputs": [
    {
     "data": {
      "text/plain": [
       "float"
      ]
     },
     "execution_count": 212,
     "metadata": {},
     "output_type": "execute_result"
    }
   ],
   "source": [
    "type(str_extract)"
   ]
  },
  {
   "cell_type": "markdown",
   "metadata": {},
   "source": [
    "### File"
   ]
  },
  {
   "cell_type": "markdown",
   "metadata": {},
   "source": [
    "* Reading and writing text files such as those created in a text editor\n",
    "* To read or write a file, first open the file\n",
    "* "
   ]
  },
  {
   "cell_type": "code",
   "execution_count": 214,
   "metadata": {},
   "outputs": [
    {
     "data": {
      "text/plain": [
       "<_io.TextIOWrapper name='mbox_2022.txt' mode='r' encoding='cp1252'>"
      ]
     },
     "execution_count": 214,
     "metadata": {},
     "output_type": "execute_result"
    }
   ],
   "source": [
    "fhand = open('mbox_2022.txt')\n",
    "fhand"
   ]
  },
  {
   "cell_type": "code",
   "execution_count": 217,
   "metadata": {},
   "outputs": [
    {
     "data": {
      "text/plain": [
       "'Hello\\nWorld!'"
      ]
     },
     "execution_count": 217,
     "metadata": {},
     "output_type": "execute_result"
    }
   ],
   "source": [
    "stuff = 'Hello\\nWorld!'\n",
    "stuff"
   ]
  },
  {
   "cell_type": "code",
   "execution_count": 218,
   "metadata": {},
   "outputs": [
    {
     "name": "stdout",
     "output_type": "stream",
     "text": [
      "Hello\n",
      "World!\n"
     ]
    }
   ],
   "source": [
    "print(stuff)"
   ]
  },
  {
   "cell_type": "code",
   "execution_count": 219,
   "metadata": {},
   "outputs": [
    {
     "name": "stdout",
     "output_type": "stream",
     "text": [
      "X\n",
      "Y\n"
     ]
    }
   ],
   "source": [
    "stuff = 'X\\nY'   #The newline character (\\n) is a single character\n",
    "print(stuff)"
   ]
  },
  {
   "cell_type": "code",
   "execution_count": 220,
   "metadata": {},
   "outputs": [
    {
     "data": {
      "text/plain": [
       "3"
      ]
     },
     "execution_count": 220,
     "metadata": {},
     "output_type": "execute_result"
    }
   ],
   "source": [
    "len(stuff)"
   ]
  },
  {
   "cell_type": "code",
   "execution_count": 224,
   "metadata": {},
   "outputs": [
    {
     "name": "stdout",
     "output_type": "stream",
     "text": [
      "Line Count: 8\n"
     ]
    }
   ],
   "source": [
    "# Reading files\n",
    "fhand = open('mbox_2022.txt')\n",
    "count = 0\n",
    "for line in fhand:\n",
    "    count = count + 1\n",
    "print('Line Count:', count)"
   ]
  },
  {
   "cell_type": "code",
   "execution_count": 226,
   "metadata": {},
   "outputs": [
    {
     "data": {
      "text/plain": [
       "''"
      ]
     },
     "execution_count": 226,
     "metadata": {},
     "output_type": "execute_result"
    }
   ],
   "source": [
    "inp  = fhand.read()\n",
    "inp"
   ]
  },
  {
   "cell_type": "markdown",
   "metadata": {},
   "source": [
    "## Lists"
   ]
  },
  {
   "cell_type": "code",
   "execution_count": 239,
   "metadata": {},
   "outputs": [
    {
     "name": "stdout",
     "output_type": "stream",
     "text": [
      "['Cheddar', 'Edam', 'Gouda'] [17, 123] []\n"
     ]
    }
   ],
   "source": [
    "cheeses = ['Cheddar','Edam','Gouda']\n",
    "numbers = [17,123]\n",
    "empty = []\n",
    "print(cheeses, numbers, empty)"
   ]
  },
  {
   "cell_type": "code",
   "execution_count": 240,
   "metadata": {},
   "outputs": [
    {
     "name": "stdout",
     "output_type": "stream",
     "text": [
      "Gouda\n"
     ]
    }
   ],
   "source": [
    "print(cheeses[2])"
   ]
  },
  {
   "cell_type": "code",
   "execution_count": 241,
   "metadata": {},
   "outputs": [
    {
     "data": {
      "text/plain": [
       "[17, 5]"
      ]
     },
     "execution_count": 241,
     "metadata": {},
     "output_type": "execute_result"
    }
   ],
   "source": [
    "#Lists are mutable unlike strings\n",
    "numbers[1] = 5\n",
    "numbers"
   ]
  },
  {
   "cell_type": "code",
   "execution_count": 242,
   "metadata": {},
   "outputs": [
    {
     "data": {
      "text/plain": [
       "True"
      ]
     },
     "execution_count": 242,
     "metadata": {},
     "output_type": "execute_result"
    }
   ],
   "source": [
    "17 in numbers"
   ]
  },
  {
   "cell_type": "code",
   "execution_count": 243,
   "metadata": {},
   "outputs": [
    {
     "data": {
      "text/plain": [
       "True"
      ]
     },
     "execution_count": 243,
     "metadata": {},
     "output_type": "execute_result"
    }
   ],
   "source": [
    "'Cheddar' in cheeses"
   ]
  },
  {
   "cell_type": "code",
   "execution_count": 244,
   "metadata": {},
   "outputs": [
    {
     "data": {
      "text/plain": [
       "False"
      ]
     },
     "execution_count": 244,
     "metadata": {},
     "output_type": "execute_result"
    }
   ],
   "source": [
    "'Brie' in cheeses"
   ]
  },
  {
   "cell_type": "code",
   "execution_count": 245,
   "metadata": {},
   "outputs": [
    {
     "name": "stdout",
     "output_type": "stream",
     "text": [
      "Cheddar\n",
      "Edam\n",
      "Gouda\n"
     ]
    }
   ],
   "source": [
    "for cheese in cheeses:\n",
    "    print(cheese)"
   ]
  },
  {
   "cell_type": "code",
   "execution_count": 246,
   "metadata": {},
   "outputs": [
    {
     "data": {
      "text/plain": [
       "[34, 10]"
      ]
     },
     "execution_count": 246,
     "metadata": {},
     "output_type": "execute_result"
    }
   ],
   "source": [
    "for i in range(len(numbers)):\n",
    "    numbers[i] = numbers[i]*2\n",
    "    \n",
    "numbers"
   ]
  },
  {
   "cell_type": "code",
   "execution_count": 248,
   "metadata": {},
   "outputs": [
    {
     "name": "stdout",
     "output_type": "stream",
     "text": [
      "[4, 5, 6, 1, 2, 3]\n"
     ]
    }
   ],
   "source": [
    "#List operations\n",
    "a = [1,2,3]\n",
    "b = [4,5,6]\n",
    "c = b+a     #position of lists during concatenation matters\n",
    "print(c)"
   ]
  },
  {
   "cell_type": "code",
   "execution_count": 249,
   "metadata": {},
   "outputs": [
    {
     "data": {
      "text/plain": [
       "[0, 0, 0, 0]"
      ]
     },
     "execution_count": 249,
     "metadata": {},
     "output_type": "execute_result"
    }
   ],
   "source": [
    "[0]*4"
   ]
  },
  {
   "cell_type": "code",
   "execution_count": 250,
   "metadata": {},
   "outputs": [
    {
     "data": {
      "text/plain": [
       "[1, 2, 3, 1, 2, 3, 1, 2, 3]"
      ]
     },
     "execution_count": 250,
     "metadata": {},
     "output_type": "execute_result"
    }
   ],
   "source": [
    "[1,2,3]*3"
   ]
  },
  {
   "cell_type": "code",
   "execution_count": 251,
   "metadata": {},
   "outputs": [
    {
     "data": {
      "text/plain": [
       "['b', 'c']"
      ]
     },
     "execution_count": 251,
     "metadata": {},
     "output_type": "execute_result"
    }
   ],
   "source": [
    "#List slices\n",
    "t = ['a','b','c','d','e','f']\n",
    "t[1:3]  #Does not include the last value in the range "
   ]
  },
  {
   "cell_type": "code",
   "execution_count": 252,
   "metadata": {},
   "outputs": [
    {
     "data": {
      "text/plain": [
       "['a', 'b', 'c', 'd']"
      ]
     },
     "execution_count": 252,
     "metadata": {},
     "output_type": "execute_result"
    }
   ],
   "source": [
    "t[:4]"
   ]
  },
  {
   "cell_type": "code",
   "execution_count": 253,
   "metadata": {},
   "outputs": [
    {
     "data": {
      "text/plain": [
       "['d', 'e', 'f']"
      ]
     },
     "execution_count": 253,
     "metadata": {},
     "output_type": "execute_result"
    }
   ],
   "source": [
    "t[3:]"
   ]
  },
  {
   "cell_type": "code",
   "execution_count": 256,
   "metadata": {},
   "outputs": [
    {
     "data": {
      "text/plain": [
       "['a', 'x', 'y', 'd', 'e', 'f']"
      ]
     },
     "execution_count": 256,
     "metadata": {},
     "output_type": "execute_result"
    }
   ],
   "source": [
    "t[1:3] = ['x','y']\n",
    "t"
   ]
  },
  {
   "cell_type": "code",
   "execution_count": 262,
   "metadata": {},
   "outputs": [
    {
     "name": "stdout",
     "output_type": "stream",
     "text": [
      "['a', 'b', 'c', 'd']\n"
     ]
    }
   ],
   "source": [
    "#List methods\n",
    "t = ['a','b','c']\n",
    "t.append('d')   #Takes only one argument\n",
    "print(t)"
   ]
  },
  {
   "cell_type": "code",
   "execution_count": 263,
   "metadata": {},
   "outputs": [
    {
     "data": {
      "text/plain": [
       "['a', 'b', 'c', 'd', 'e', 'f', 'g']"
      ]
     },
     "execution_count": 263,
     "metadata": {},
     "output_type": "execute_result"
    }
   ],
   "source": [
    "#Use the extend() to add more than one element to a list\n",
    "t2 = ['e','f','g']\n",
    "t.extend(t2)\n",
    "t"
   ]
  },
  {
   "cell_type": "code",
   "execution_count": 266,
   "metadata": {},
   "outputs": [
    {
     "data": {
      "text/plain": [
       "['a', 'd', 'g', 'r', 's', 't', 'w', 'z']"
      ]
     },
     "execution_count": 266,
     "metadata": {},
     "output_type": "execute_result"
    }
   ],
   "source": [
    "# Sort arranges the elements of the list from low to high\n",
    "t = ['s','r','a','d','g','z','t','w']\n",
    "t.sort()   #Ascending order by default\n",
    "t"
   ]
  },
  {
   "cell_type": "code",
   "execution_count": 268,
   "metadata": {},
   "outputs": [
    {
     "name": "stdout",
     "output_type": "stream",
     "text": [
      "['a', 'd', 'r', 's', 't', 'w', 'z']\n"
     ]
    }
   ],
   "source": [
    "#Deleting elements\n",
    "x = t.pop(2)   #removing g from the list\n",
    "print(t)"
   ]
  },
  {
   "cell_type": "code",
   "execution_count": 269,
   "metadata": {},
   "outputs": [
    {
     "name": "stdout",
     "output_type": "stream",
     "text": [
      "g\n"
     ]
    }
   ],
   "source": [
    "print(x)    #The element deleted from the list"
   ]
  },
  {
   "cell_type": "code",
   "execution_count": 271,
   "metadata": {},
   "outputs": [
    {
     "data": {
      "text/plain": [
       "['a', 'd', 'r', 's', 't']"
      ]
     },
     "execution_count": 271,
     "metadata": {},
     "output_type": "execute_result"
    }
   ],
   "source": [
    "th = t.pop()   #When no argument is provided, the pop() removes the last element\n",
    "t"
   ]
  },
  {
   "cell_type": "code",
   "execution_count": 272,
   "metadata": {},
   "outputs": [
    {
     "name": "stdout",
     "output_type": "stream",
     "text": [
      "['a', 'd', 's', 't']\n"
     ]
    }
   ],
   "source": [
    "del t[2]\n",
    "print(t)"
   ]
  },
  {
   "cell_type": "code",
   "execution_count": 273,
   "metadata": {},
   "outputs": [
    {
     "name": "stdout",
     "output_type": "stream",
     "text": [
      "['a', 'd', 't']\n"
     ]
    }
   ],
   "source": [
    "t.remove('s')\n",
    "print(t)"
   ]
  },
  {
   "cell_type": "code",
   "execution_count": 274,
   "metadata": {},
   "outputs": [
    {
     "name": "stdout",
     "output_type": "stream",
     "text": [
      "6\n"
     ]
    }
   ],
   "source": [
    "#Lists and functions\n",
    "nums = [3,41,12,9,74,15]\n",
    "print(len(nums))"
   ]
  },
  {
   "cell_type": "code",
   "execution_count": 275,
   "metadata": {},
   "outputs": [
    {
     "name": "stdout",
     "output_type": "stream",
     "text": [
      "74\n"
     ]
    }
   ],
   "source": [
    "print(max(nums))"
   ]
  },
  {
   "cell_type": "code",
   "execution_count": 276,
   "metadata": {},
   "outputs": [
    {
     "name": "stdout",
     "output_type": "stream",
     "text": [
      "3\n"
     ]
    }
   ],
   "source": [
    "print(min(nums))"
   ]
  },
  {
   "cell_type": "code",
   "execution_count": 277,
   "metadata": {},
   "outputs": [
    {
     "name": "stdout",
     "output_type": "stream",
     "text": [
      "154\n"
     ]
    }
   ],
   "source": [
    "print(sum(nums))"
   ]
  },
  {
   "cell_type": "code",
   "execution_count": 280,
   "metadata": {},
   "outputs": [
    {
     "name": "stdout",
     "output_type": "stream",
     "text": [
      "25\n"
     ]
    }
   ],
   "source": [
    "print(int(sum(nums)/len(nums)))"
   ]
  },
  {
   "cell_type": "code",
   "execution_count": 281,
   "metadata": {},
   "outputs": [
    {
     "name": "stdout",
     "output_type": "stream",
     "text": [
      "Enter a number: 2\n",
      "Enter a number: 5\n",
      "Enter a number: 6\n",
      "Enter a number: 7\n",
      "Enter a number: 3\n",
      "Enter a number: 9\n",
      "Enter a number: done\n",
      "Average:  5.333333333333333\n"
     ]
    }
   ],
   "source": [
    "#The program to compute an average without a list\n",
    "total = 0\n",
    "count = 0\n",
    "while (True):\n",
    "    inp = input('Enter a number: ')\n",
    "    if inp == 'done':\n",
    "        break\n",
    "    value = float(inp)\n",
    "    total = total + value\n",
    "    count = count + 1\n",
    "    \n",
    "average = total/count\n",
    "print('Average: ',average)"
   ]
  },
  {
   "cell_type": "code",
   "execution_count": 283,
   "metadata": {},
   "outputs": [
    {
     "name": "stdout",
     "output_type": "stream",
     "text": [
      "Enter a number:4\n",
      "Enter a number:3\n",
      "Enter a number:5\n",
      "Enter a number:6\n",
      "Enter a number:2\n",
      "Enter a number:7\n",
      "Enter a number:done\n",
      "Average: 4.5\n"
     ]
    }
   ],
   "source": [
    "numlist = list()    #Creates an entry list before the loop starts\n",
    "while(True):\n",
    "    inp = input('Enter a number:')\n",
    "    if inp == 'done':\n",
    "        break\n",
    "    value = float(inp)\n",
    "    numlist.append(value)\n",
    "    \n",
    "average = sum(numlist)/ len(numlist)\n",
    "print('Average:',average)"
   ]
  },
  {
   "cell_type": "code",
   "execution_count": 284,
   "metadata": {},
   "outputs": [
    {
     "name": "stdout",
     "output_type": "stream",
     "text": [
      "['s', 'p', 'a', 'm']\n"
     ]
    }
   ],
   "source": [
    "#Lists and strings\n",
    "s = 'spam'\n",
    "t = list(s)    #converts a string to a list(elements are the individual characters of the string)\n",
    "print(t)"
   ]
  },
  {
   "cell_type": "code",
   "execution_count": 285,
   "metadata": {},
   "outputs": [
    {
     "name": "stdout",
     "output_type": "stream",
     "text": [
      "['pining', 'for', 'the', 'fjords']\n"
     ]
    }
   ],
   "source": [
    "s = 'pining for the fjords'\n",
    "t = s.split()    #breaks a string into separate words using spaces as the delimiter\n",
    "print(t)"
   ]
  },
  {
   "cell_type": "code",
   "execution_count": 287,
   "metadata": {},
   "outputs": [
    {
     "name": "stdout",
     "output_type": "stream",
     "text": [
      "fjords\n"
     ]
    }
   ],
   "source": [
    "print(t[3])"
   ]
  },
  {
   "cell_type": "code",
   "execution_count": 288,
   "metadata": {},
   "outputs": [
    {
     "data": {
      "text/plain": [
       "['spam', 'the', 'email', 'this', 'day', 'deny', 'them', 'service']"
      ]
     },
     "execution_count": 288,
     "metadata": {},
     "output_type": "execute_result"
    }
   ],
   "source": [
    "s = 'spam-the-email-this-day-deny-them-service'\n",
    "delimiter = '-'\n",
    "s.split(delimiter)\n"
   ]
  },
  {
   "cell_type": "code",
   "execution_count": 291,
   "metadata": {},
   "outputs": [
    {
     "data": {
      "text/plain": [
       "'pining for the fjords shadows and bones'"
      ]
     },
     "execution_count": 291,
     "metadata": {},
     "output_type": "execute_result"
    }
   ],
   "source": [
    "#joining the elements in a list to form a string\n",
    "tr = ['pining','for','the','fjords','shadows','and','bones']\n",
    "delimit = ' '\n",
    "delimit.join(tr)"
   ]
  },
  {
   "cell_type": "code",
   "execution_count": 301,
   "metadata": {},
   "outputs": [
    {
     "name": "stdout",
     "output_type": "stream",
     "text": [
      "Email Date: Sat Jan 5\n"
     ]
    }
   ],
   "source": [
    "#Parsing lines\n",
    "dt = 'From stephen.marquard@uct.ac.za Sat Jan 5 09:14:16 2008'\n",
    "dt2 = dt.split(' ')\n",
    "dt3 = dt2[2:5]   #Finds the substring with the date\n",
    "dm = ' '\n",
    "print('Email Date: %s' %(dm.join(dt3)))\n"
   ]
  },
  {
   "cell_type": "code",
   "execution_count": 302,
   "metadata": {},
   "outputs": [
    {
     "name": "stdout",
     "output_type": "stream",
     "text": [
      "Day of the week: Sat\n"
     ]
    }
   ],
   "source": [
    "#To print day of the week\n",
    "dow = dt3[0]\n",
    "print('Day of the week: %s' %dow)"
   ]
  },
  {
   "cell_type": "code",
   "execution_count": null,
   "metadata": {},
   "outputs": [],
   "source": [
    "#Aliasing\n"
   ]
=======
=======
>>>>>>> Stashed changes
   "execution_count": null,
   "metadata": {},
   "outputs": [],
   "source": []
<<<<<<< Updated upstream
>>>>>>> Stashed changes
=======
>>>>>>> Stashed changes
  }
 ],
 "metadata": {
  "kernelspec": {
   "display_name": "Python 3",
   "language": "python",
   "name": "python3"
  },
  "language_info": {
   "codemirror_mode": {
    "name": "ipython",
    "version": 3
   },
   "file_extension": ".py",
   "mimetype": "text/x-python",
   "name": "python",
   "nbconvert_exporter": "python",
   "pygments_lexer": "ipython3",
   "version": "3.8.3"
  }
 },
 "nbformat": 4,
 "nbformat_minor": 4
}
