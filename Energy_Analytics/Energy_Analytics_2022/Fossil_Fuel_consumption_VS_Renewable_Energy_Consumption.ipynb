{
 "cells": [
  {
   "cell_type": "markdown",
   "id": "27a05048",
   "metadata": {},
   "source": [
    "##### Energy Consumption (Global view on Fossil fuel consumption vs. Renewable energy consumption)"
   ]
  },
  {
   "cell_type": "code",
   "execution_count": 1,
   "id": "607db8b2",
   "metadata": {},
   "outputs": [],
   "source": [
    "#Importing all the relevant packages:\n",
    "import pandas as pd\n",
    "import numpy as np\n",
    "import matplotlib.pyplot as plt\n",
    "import seaborn as sn\n"
   ]
  },
  {
   "cell_type": "code",
   "execution_count": 27,
   "id": "f45fa9a7",
   "metadata": {},
   "outputs": [
    {
     "name": "stdout",
     "output_type": "stream",
     "text": [
      "<class 'pandas.core.frame.DataFrame'>\n",
      "RangeIndex: 266 entries, 0 to 265\n",
      "Data columns (total 67 columns):\n",
      " #   Column          Non-Null Count  Dtype  \n",
      "---  ------          --------------  -----  \n",
      " 0   Country Name    266 non-null    object \n",
      " 1   Country Code    266 non-null    object \n",
      " 2   Indicator Name  266 non-null    object \n",
      " 3   Indicator Code  266 non-null    object \n",
      " 4   1960            0 non-null      float64\n",
      " 5   1961            0 non-null      float64\n",
      " 6   1962            0 non-null      float64\n",
      " 7   1963            0 non-null      float64\n",
      " 8   1964            0 non-null      float64\n",
      " 9   1965            0 non-null      float64\n",
      " 10  1966            0 non-null      float64\n",
      " 11  1967            0 non-null      float64\n",
      " 12  1968            0 non-null      float64\n",
      " 13  1969            0 non-null      float64\n",
      " 14  1970            0 non-null      float64\n",
      " 15  1971            0 non-null      float64\n",
      " 16  1972            0 non-null      float64\n",
      " 17  1973            0 non-null      float64\n",
      " 18  1974            0 non-null      float64\n",
      " 19  1975            0 non-null      float64\n",
      " 20  1976            0 non-null      float64\n",
      " 21  1977            0 non-null      float64\n",
      " 22  1978            0 non-null      float64\n",
      " 23  1979            0 non-null      float64\n",
      " 24  1980            0 non-null      float64\n",
      " 25  1981            0 non-null      float64\n",
      " 26  1982            0 non-null      float64\n",
      " 27  1983            0 non-null      float64\n",
      " 28  1984            0 non-null      float64\n",
      " 29  1985            0 non-null      float64\n",
      " 30  1986            0 non-null      float64\n",
      " 31  1987            0 non-null      float64\n",
      " 32  1988            0 non-null      float64\n",
      " 33  1989            0 non-null      float64\n",
      " 34  1990            245 non-null    float64\n",
      " 35  1991            246 non-null    float64\n",
      " 36  1992            251 non-null    float64\n",
      " 37  1993            251 non-null    float64\n",
      " 38  1994            251 non-null    float64\n",
      " 39  1995            252 non-null    float64\n",
      " 40  1996            252 non-null    float64\n",
      " 41  1997            252 non-null    float64\n",
      " 42  1998            252 non-null    float64\n",
      " 43  1999            252 non-null    float64\n",
      " 44  2000            259 non-null    float64\n",
      " 45  2001            259 non-null    float64\n",
      " 46  2002            259 non-null    float64\n",
      " 47  2003            259 non-null    float64\n",
      " 48  2004            259 non-null    float64\n",
      " 49  2005            260 non-null    float64\n",
      " 50  2006            260 non-null    float64\n",
      " 51  2007            260 non-null    float64\n",
      " 52  2008            260 non-null    float64\n",
      " 53  2009            260 non-null    float64\n",
      " 54  2010            260 non-null    float64\n",
      " 55  2011            260 non-null    float64\n",
      " 56  2012            261 non-null    float64\n",
      " 57  2013            261 non-null    float64\n",
      " 58  2014            261 non-null    float64\n",
      " 59  2015            261 non-null    float64\n",
      " 60  2016            213 non-null    float64\n",
      " 61  2017            213 non-null    float64\n",
      " 62  2018            213 non-null    float64\n",
      " 63  2019            213 non-null    float64\n",
      " 64  2020            0 non-null      float64\n",
      " 65  2021            0 non-null      float64\n",
      " 66  Unnamed: 66     0 non-null      float64\n",
      "dtypes: float64(63), object(4)\n",
      "memory usage: 139.4+ KB\n"
     ]
    }
   ],
   "source": [
    "#Loading all the datasets (Period 1960 to 2021)\n",
    "Fossil_Fuel = pd.read_csv('dataset/Fossil_Fuel_energy_Consumption/ffec.csv',skiprows=3)\n",
    "Renewable_Energy = pd.read_csv('dataset\\Renewable_Energy_Consumption/reconsumption.csv',skiprows=3)\n",
    "Renewable_Energy.info()"
   ]
  },
  {
   "cell_type": "code",
   "execution_count": 36,
   "id": "8944cf69",
   "metadata": {},
   "outputs": [
    {
     "ename": "SyntaxError",
     "evalue": "invalid syntax (1704161620.py, line 6)",
     "output_type": "error",
     "traceback": [
      "\u001b[1;36m  Input \u001b[1;32mIn [36]\u001b[1;36m\u001b[0m\n\u001b[1;33m    Renewable_Energy.2021['0']\u001b[0m\n\u001b[1;37m                    ^\u001b[0m\n\u001b[1;31mSyntaxError\u001b[0m\u001b[1;31m:\u001b[0m invalid syntax\n"
     ]
    }
   ],
   "source": [
    "#Cleaning up the dataset (To change the NaN to zeros) \n",
    "#Dropping rows with no data may tamper with our global view of the fossil fuel vs renewables consumption\n",
    "Renewable_Energy[pd.notnull(Renewable_Energy['Country Name'])] #No NaN row entries in this dataset\n",
    "\n",
    "#Replace the NaN with zero\n",
    "Renewable_Energy.2021['0']\n"
   ]
  },
  {
   "cell_type": "code",
   "execution_count": null,
   "id": "a5c89978",
   "metadata": {},
   "outputs": [],
   "source": []
  }
 ],
 "metadata": {
  "kernelspec": {
   "display_name": "Python 3 (ipykernel)",
   "language": "python",
   "name": "python3"
  },
  "language_info": {
   "codemirror_mode": {
    "name": "ipython",
    "version": 3
   },
   "file_extension": ".py",
   "mimetype": "text/x-python",
   "name": "python",
   "nbconvert_exporter": "python",
   "pygments_lexer": "ipython3",
   "version": "3.9.12"
  }
 },
 "nbformat": 4,
 "nbformat_minor": 5
}
